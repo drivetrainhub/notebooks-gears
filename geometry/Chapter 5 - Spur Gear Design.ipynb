{
 "cells": [
  {
   "cell_type": "markdown",
   "metadata": {},
   "source": [
    "[<img align=\"left\" width=\"140px\" src=\"https://storage.googleapis.com/static.drivetrainhub.com/img/dh_logo_text_217x80.png\"/>](https://www.drivetrainhub.com)\n",
    "\n",
    "<div align=\"right\">© 2019 Drivetrain Hub LLC</div>"
   ]
  },
  {
   "cell_type": "markdown",
   "metadata": {},
   "source": [
    "# Design / Spur Gears\n",
    "---\n",
    "\n",
    "**Authors**:  Tugan Eritenel\n",
    "\n",
    "**Description**:  Design of spur gears, given geometric constraints."
   ]
  },
  {
   "cell_type": "markdown",
   "metadata": {},
   "source": [
    "## Table of Contents\n",
    "\n",
    "1. [References](#References)"
   ]
  },
  {
   "cell_type": "markdown",
   "metadata": {},
   "source": [
    "Notebook imports and settings"
   ]
  },
  {
   "cell_type": "code",
   "execution_count": 77,
   "metadata": {},
   "outputs": [],
   "source": [
    "from pprint import pprint\n",
    "import math\n",
    "import numpy as np\n",
    "def inv(a):\n",
    "    return math.tan(a) - a\n",
    "def alpha_at_given_d(d,d_b):\n",
    "    return math.acos(d_b/d)\n",
    "def thickness_at_given_d(d,d_p,d_b,alpha,m,x):\n",
    "    S_p = math.pi/2*m + 2*m*x*math.tan(alpha)\n",
    "    alpha_d = alpha_at_given_d(d,d_b)\n",
    "    S = d*(S_p/d_p+inv(alpha)-inv(alpha_d))\n",
    "    return S"
   ]
  },
  {
   "cell_type": "markdown",
   "metadata": {},
   "source": [
    "<div class=\"alert alert-block alert-info\">Example alert box!</div>"
   ]
  },
  {
   "cell_type": "markdown",
   "metadata": {},
   "source": [
    "This chapter is on designing the geometry of spur gear pairs.  Here, the module and the center distance is specified. The gear pair is designed to achieve a desired gear ratio, while the gear geometry is within limits of certain criteria."
   ]
  },
  {
   "cell_type": "markdown",
   "metadata": {},
   "source": [
    "## Definitions and Gear Parameters \n",
    "The table below shows the definitions of basic gear geometry pramaters, and equations needed to calculate them.\n",
    "<table>\n",
    "    <thead>\n",
    "        <td>Parameter</td><td style=\"width:200px\">Expression</td><td>Units</td>\n",
    "    </thead>\n",
    "    <tr>\n",
    "        <td>Involute function</td><td>$\\rm{inv}\\left({\\theta}\\right) = \\tan\\theta - \\theta $</td><td>rad</td>\n",
    "    </tr>\n",
    "    <tr>\n",
    "        <td>Number of gear teeth</td><td>$z$</td><td>None</td>\n",
    "    </tr>\n",
    "    <tr>\n",
    "        <td>Normal module</td><td>$m$</td><td>mm</td>\n",
    "    </tr>\n",
    "    <tr>\n",
    "        <td>Generating pressure angle</td><td>$\\alpha$</td><td>deg</td>\n",
    "    </tr>\n",
    "    <tr>\n",
    "        <td>Profile shift</td><td>$x$</td><td>$m$</td>\n",
    "    </tr>\n",
    "    <tr>\n",
    "        <td>Topping</td><td>$y$</td><td>$m$</td>\n",
    "    </tr>\n",
    "    <tr>\n",
    "        <td>Pitch diameter</td><td>$d_p = mz$</td><td>mm</td>\n",
    "    </tr>\n",
    "    <tr>\n",
    "        <td>Base diameter</td><td>$d_b = d_p \\cos \\alpha$</td><td>mm</td>\n",
    "    </tr>\n",
    "    <tr>\n",
    "        <td>Tip diameter</td><td>$d_t= d_p + 2m\\left(1+x-y\\right)$</td><td>mm</td>\n",
    "    </tr>\n",
    "    <tr>\n",
    "        <td>Root diameter</td><td>$d_r= d_p + 2m\\left(-1.25+x\\right)$</td><td>mm</td>\n",
    "    </tr>\n",
    "    <tr>\n",
    "        <td>Base pitch</td><td>$B_p= m\\pi\\cos\\alpha$</td><td>mm</td>\n",
    "    </tr>\n",
    "</table>\n",
    "In a gear pair, parameters that belong to the first gear are indicated with subscript 1, and parameters that belong to the second gear are indicated with subscript 2.  The gear with the lower number of teeth is referred to as the \"pinion\", and the gear with the higher number of teeth is referred to as the \"wheel\". The term \"working\" refers to the parameters when the gear pair is operating at a given center distance.\n",
    "<table>\n",
    "    <thead>\n",
    "        <td>Parameter</td><td style=\"width:200px\">Expression</td><td>Units</td>\n",
    "    </thead>\n",
    "    <tr>\n",
    "        <td>Standard center distance</td><td>$a_0 = m\\frac{z_1 + z_2}{2}$</td><td>mm</td>\n",
    "    </tr>\n",
    "    <tr>\n",
    "        <td>Operating center distance</td><td>$a$</td><td>mm</td>\n",
    "    </tr>\n",
    "    <tr>\n",
    "        <td>Working pressure angle</td><td>$\\alpha_w = \\cos^{-1}\\left( \\frac{a_0}{a} \\cos\\alpha \\right) $</td><td>mm</td>\n",
    "    </tr>\n",
    "    <tr>\n",
    "        <td>Working pitch diameter</td><td>$d_w = \\frac{d_b}{\\cos\\alpha_w}$</td><td>mm</td>\n",
    "    </tr>\n",
    "    <tr>\n",
    "        <td>Contact ratio</td><td> $R = \\frac{\\sqrt{d^2_{t,1} -d^2_{r,1}} + \\sqrt{d^2_{t,2} -d^2_{r,2}} -a\\sin\\alpha_w} {2B_p}$ </td><td>None</td>\n",
    "    </tr>\n",
    "    \n",
    "</table>\n",
    "\n",
    "Parameters and expressions on tooth thickness, backlash, and tip-to-root clearances are given in table below.\n",
    "<table>\n",
    "    <thead>\n",
    "        <td>Parameter</td><td style=\"width:250px\">Expression</td><td>Units</td>\n",
    "    </thead>\n",
    "    <tr>\n",
    "        <td>Circular tooth thickness at pitch diameter</td><td> $S_p = \\frac{m}{2}\\pi + 2mx\\tan\\alpha$</td><td>mm</td>\n",
    "    </tr>\n",
    "    <tr>\n",
    "        <td>Pressure angle at a given diameter, $d$</td><td> $\\alpha(d) = \\cos^{-1}\\left(\\frac{d_b}{d} \\right)$</td><td>mm</td>\n",
    "    </tr>\n",
    "    <tr>\n",
    "        <td>Circular tooth thickness at a given diameter, $d$</td><td> $S(d) = d\\left( \\frac{S_p}{d_p} + \\rm{inv}\\alpha - \\rm{inv}\\alpha_d \\right)$</td><td>mm</td>\n",
    "    </tr>\n",
    "    <tr>\n",
    "        <td>Circular backlash</td><td> $B_c = \\frac{B_p}{\\cos\\alpha_w} - S\\left(d_{w,1}\\right) -  S\\left(d_{w,2}\\right)$</td><td>mm</td>\n",
    "    </tr>\n",
    "    <tr>\n",
    "        <td>Linear backlash</td><td> $B_l = B_c \\cos\\alpha_w$</td><td>mm</td>\n",
    "    </tr>\n",
    "    <tr>\n",
    "        <td>Pinion tip to gear root clearance</td><td> $c_1 =a - a_0 - m\\left(x_1+x_2 - y_1 \\right)$</td><td>mm</td>\n",
    "    </tr>\n",
    "    <tr>\n",
    "        <td>Gear tip to pinion root clearance</td><td> $c_2 =a - a_0 - m\\left(x_1+x_2 - y_2 \\right)$</td><td>mm</td>\n",
    "    </tr>\n",
    "</table>"
   ]
  },
  {
   "cell_type": "markdown",
   "metadata": {},
   "source": [
    "### Profile Shift\n",
    "Hob can be pushed or pulled while gears are manufactured.  This affects the shape of the gear tooth generated.  A positive profile shift indicates that the hob is pulled away from the gear center.\n",
    "#### Advantages of Positive Profile Shift\n",
    "<ul>\n",
    "    <li>Reduces or eliminates undercut</li>\n",
    "    <li>Reduces root stress by increasing tooth thickness</li>\n",
    "    <li>Improves radius of curvature at contact</li>\n",
    "</ul>\n",
    "#### Disadvantages of Positive Profile Shift\n",
    "<ul>\n",
    "    <li>Reduces tooth tip thickness, can lead to peaking</li>\n",
    "    <li>Can reduce contact ratio</li>\n",
    "</ul>\n",
    "    "
   ]
  },
  {
   "cell_type": "markdown",
   "metadata": {},
   "source": [
    "### Undercut\n",
    "Involute profile is not defined below the base circe.  Undercut occurs when hob cuts below the base circle, which increases stress concentration.  Undercut is generally to be avoided or reduced if possible.  Gears with low number of teeth are more prone to undercut.  \n",
    "The minimum number of gear teeth without undercut is given by,\n",
    "$$ z_{min} = \\frac{2}{\\sin^2\\alpha}$$\n",
    "where $\\alpha$ is the pressure angle of the hob.  Given the number of teeth, the minimum profile shift required to avoid undercut is given by,\n",
    "$$x=\\frac{z_{min} - z}{z_{min}}$$"
   ]
  },
  {
   "cell_type": "markdown",
   "metadata": {},
   "source": [
    "### Topping to Avoid Peaking and Tip-to-Root Interference\n",
    "#### Peaking\n",
    "Peaking occurs when the gear tooth tip thickness reaches zero due to positive profile shift.  Generally it is recommended that the tip thickness is greater than $0.25 m$, where $m$ is the normal module.\n",
    "#### Tip-to-Root Interference\n",
    "Tip-to-root interference occurs when the gear teeth are too long and interfere with the root of the mating gear due to positive profile shift.  Generally, it is recommended that tip-to-root clearance is equal to or greater than $0.25m$.  "
   ]
  },
  {
   "cell_type": "markdown",
   "metadata": {},
   "source": [
    "## Geometric Design Process\n",
    "The design process is explained by means of an example.<br>\n",
    "Requirements are as follows, module: $m = 3$ mm, hob pressure angle: $\\alpha=20$ deg, operating center distance: $a = 210$ mm.  Gear ratio: $i=3$. \n",
    "### Choosing Number of Gear Teeth\n",
    "Since gear ratio is defined by $i=\\frac{z_2}{z_1}$, rearranging, $z_2=i z_1$.  To minimize the size of the gears, the lowest number of teeth should be chosen.  Minimum number of pinion teeth is chosen so that undercut is avoided."
   ]
  },
  {
   "cell_type": "code",
   "execution_count": 78,
   "metadata": {},
   "outputs": [
    {
     "name": "stdout",
     "output_type": "stream",
     "text": [
      "z_1 = 17\n",
      "z_2 = 51\n"
     ]
    }
   ],
   "source": [
    "alpha=20/180*math.pi\n",
    "i = 3\n",
    "m = 3\n",
    "a = 210\n",
    "z_1 = 2/(math.sin(alpha)**2)\n",
    "z_1 = int(round(z_1))\n",
    "z_2 = z_1*i\n",
    "print(\"z_1 =\",z_1)\n",
    "print(\"z_2 =\",z_2)"
   ]
  },
  {
   "cell_type": "markdown",
   "metadata": {},
   "source": [
    "The standard center distance and working pressure angle are,"
   ]
  },
  {
   "cell_type": "code",
   "execution_count": 79,
   "metadata": {},
   "outputs": [
    {
     "name": "stdout",
     "output_type": "stream",
     "text": [
      "a_0 = 204\n",
      "alpha_w = 24.09858514855698\n"
     ]
    }
   ],
   "source": [
    "a_0 = m*(z_1+z_2)\n",
    "alpha_w = math.acos(a_0/a*math.cos(alpha))\n",
    "print(\"a_0 =\", a_0)\n",
    "print(\"alpha_w =\", alpha_w*180/math.pi)"
   ]
  },
  {
   "cell_type": "markdown",
   "metadata": {},
   "source": [
    "### Operating at the required center distance\n",
    "Usually, the standard center distance does not exactly the required center distance, which may be dictated by other design restrictions such as packaging or manufacturing.  Generally the gear tooth numbers are chosen such that the operating center distance is greater than the standard center distance; this is called extended center distance. If the gears operate at extended center distance without profile shift, undesirable large backash will result and the contact ratio may be too low. For these reasons, profile shift is applied such that the only source of backlash is the thinning of the hob.  Whether or not the centers are extended, any undercut on the pinion may be removed by moving the profile shift to the gear. <br>\n",
    "The total profile shift needed is found by,\n",
    "$$x_1 + x_2 = \\frac{\\left(z_1+z_2\\right) \\left(\\rm{inv}\\alpha_w -\\rm{inv}\\alpha\\right)}{2\\tan\\alpha}$$\n"
   ]
  },
  {
   "cell_type": "markdown",
   "metadata": {},
   "source": [
    "The equation above results in gears with zero backlash excluding what is built into the hob.  If a specified curcular backlash is required, the total profile shift can be updated by, \n",
    "$$x_{mod} = -\\frac{B_{c,req}}{2 m \\tan\\alpha} \\frac{\\cos\\alpha_w}{\\cos\\alpha}$$\n",
    "which modifies the total profile shift by,\n",
    "$$ \\left(x_1 + x_2 \\right)_{\\rm{new}}= x_1+x_2 + x_{mod}$$"
   ]
  },
  {
   "cell_type": "code",
   "execution_count": 80,
   "metadata": {},
   "outputs": [
    {
     "name": "stdout",
     "output_type": "stream",
     "text": [
      "x_mod = -0.04448296774355103\n"
     ]
    }
   ],
   "source": [
    "Breq=0.1\n",
    "x_mod = -Breq/(2*m*math.tan(alpha))*math.cos(alpha_w)/math.cos(alpha)\n",
    "print(\"x_mod =\", x_mod)"
   ]
  },
  {
   "cell_type": "code",
   "execution_count": 81,
   "metadata": {},
   "outputs": [
    {
     "name": "stdout",
     "output_type": "stream",
     "text": [
      "x_1 + x_2 = 1.056678655567002\n"
     ]
    }
   ],
   "source": [
    "x_total = (z_1 + z_2)*(inv(alpha_w) - inv(alpha))/2/math.tan(alpha) \n",
    "x_total = x_total +x_mod\n",
    "print(\"x_1 + x_2 =\",x_total)"
   ]
  },
  {
   "cell_type": "markdown",
   "metadata": {},
   "source": [
    "### Distributing the total profile shift\n",
    "The total profile shift needed for the gears to operate at the required center distance can be distributed in any way between the pinion and the gear.  However, a few empirical equations help improve the design. <br>\n",
    "For reduced sliding velocity, \n",
    "$$x_1 \\approx \\frac{x_1+x_2}{i+1}+\\frac{i-1}{i+1+0.4 z_2}$$\n",
    "For equal root stress,\n",
    "$$x_1 \\approx \\frac{x_1+x_2}{i+1}+\\frac{1}{2}\\left(\\frac{i-1}{i+1}\\right)$$\n",
    "For equal contact pressure,\n",
    "$$x_1 \\approx \\frac{x_1+x_2}{i+1}\\frac{z_1+12}{z_1+2} + \\frac{8}{z_1+2}$$\n",
    "Using the formula for equal root stress, "
   ]
  },
  {
   "cell_type": "code",
   "execution_count": 82,
   "metadata": {},
   "outputs": [
    {
     "name": "stdout",
     "output_type": "stream",
     "text": [
      "x_1 = 0.5141696638917506\n",
      "x_2 = 0.5425089916752515\n"
     ]
    }
   ],
   "source": [
    "x_1 = x_total/(i+1)+0.5*(i-1)/(i+1)\n",
    "x_2 = x_total - x_1\n",
    "\n",
    "print(\"x_1 =\",x_1)\n",
    "print(\"x_2 =\",x_2)"
   ]
  },
  {
   "cell_type": "markdown",
   "metadata": {},
   "source": [
    "<b>Check for undercut in pinion and gear.</b>"
   ]
  },
  {
   "cell_type": "code",
   "execution_count": 83,
   "metadata": {},
   "outputs": [],
   "source": [
    "z_min = 2/math.sin(alpha)**2 \n",
    "x_1_min = (z_min-z_1)/z_min\n",
    "x_2_min = (z_min-z_2)/z_min\n",
    "if x_1<x_1_min:\n",
    "    print(\"Pinion is undercut\")\n",
    "if x_2<x_2_min:\n",
    "    print(\"Gear is undercut\")"
   ]
  },
  {
   "cell_type": "markdown",
   "metadata": {},
   "source": [
    "Find required topping, if needed, so that <b>tip-to-root clearance</b> is at least $0.25m$, "
   ]
  },
  {
   "cell_type": "code",
   "execution_count": 84,
   "metadata": {},
   "outputs": [],
   "source": [
    "y = 0.25+x_total-(a-a_0)/m\n",
    "if y>0:\n",
    "    print(\"Topping is needed, y=\",y)\n",
    "    y_1=y\n",
    "    y_2=y\n",
    "else:\n",
    "    y_1=0\n",
    "    y_2=0"
   ]
  },
  {
   "cell_type": "markdown",
   "metadata": {},
   "source": [
    "Check that tooth tip thickness is at least $0.25m$,"
   ]
  },
  {
   "cell_type": "code",
   "execution_count": 85,
   "metadata": {},
   "outputs": [
    {
     "name": "stdout",
     "output_type": "stream",
     "text": [
      "S_t1/m = 0.411930028687525\n",
      "S_t2/m = 0.6655501599087205\n"
     ]
    }
   ],
   "source": [
    "d_p1 = z_1*m\n",
    "d_b1 = d_p1*math.cos(alpha)\n",
    "d_t1 = d_p1 + 2*m*(1+x_1-y_1)\n",
    "S_t1 = thickness_at_given_d(d_t1,d_p1,d_b1,alpha,m,x_1)\n",
    "print(\"S_t1/m =\", S_t1/m)\n",
    "if S_t1/m<0.25:\n",
    "    print(\"Tooth tip thickness is too small, reduce profile shift or increase topping.\")\n",
    "    \n",
    "d_p2 = z_2*m\n",
    "d_b2 = d_p2*math.cos(alpha)\n",
    "d_t2 = d_p2 + 2*m*(1+x_2-y_2)\n",
    "S_t2 = thickness_at_given_d(d_t2,d_p2,d_b2,alpha,m,x_2)\n",
    "print(\"S_t2/m =\", S_t2/m)\n",
    "if S_t2/m<0.25:\n",
    "    print(\"Tooth tip thickness is too small, reduce profile shift or increase topping.\")"
   ]
  },
  {
   "cell_type": "markdown",
   "metadata": {},
   "source": [
    "Backlash required can be found in IS:4460.  For low speed gears where pitch line velocity is below 8 m/s, maximum backlash for $m=2$ mm is 0.13 mm, for $m=8$ mm, is 0.4mm. For higher speed gears where pitch line velocity is above 8 m/s, maximum backlash for $m=2$ mm is 0.18 mm, for $m=8$ mm, is unchanged at 0.4mm."
   ]
  },
  {
   "cell_type": "code",
   "execution_count": 86,
   "metadata": {},
   "outputs": [
    {
     "name": "stdout",
     "output_type": "stream",
     "text": [
      "B_c = 0.1\n"
     ]
    }
   ],
   "source": [
    "BP = m*math.pi*math.cos(alpha)\n",
    "d_w1 = d_b1/math.cos(alpha_w)\n",
    "d_w2 = d_b2/math.cos(alpha_w)\n",
    "B_c = BP/math.cos(alpha_w) - thickness_at_given_d(d_w1,d_p1,d_b1,alpha,m,x_1) - thickness_at_given_d(d_w2,d_p2,d_b2,alpha,m,x_2)\n",
    "print(\"B_c =\",round(B_c,6))"
   ]
  },
  {
   "cell_type": "markdown",
   "metadata": {},
   "source": [
    "## References\n",
    "\n",
    "1. G. M. Maitra, (1994), \"Handbook of Gear Design\", Tata McGraw-Hill"
   ]
  },
  {
   "cell_type": "code",
   "execution_count": null,
   "metadata": {},
   "outputs": [],
   "source": []
  }
 ],
 "metadata": {
  "kernelspec": {
   "display_name": "Python 3",
   "language": "python",
   "name": "python3"
  },
  "language_info": {
   "codemirror_mode": {
    "name": "ipython",
    "version": 3
   },
   "file_extension": ".py",
   "mimetype": "text/x-python",
   "name": "python",
   "nbconvert_exporter": "python",
   "pygments_lexer": "ipython3",
   "version": "3.6.7"
  }
 },
 "nbformat": 4,
 "nbformat_minor": 2
}
