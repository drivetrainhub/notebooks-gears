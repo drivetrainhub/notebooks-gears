{
 "cells": [
  {
   "cell_type": "markdown",
   "metadata": {},
   "source": [
    "[<img align=\"left\" width=\"140px\" src=\"https://storage.googleapis.com/static.drivetrainhub.com/img/dh_logo_text_217x80.png\"/>](https://www.drivetrainhub.com)\n",
    "\n",
    "<div align=\"right\">© 2019 Drivetrain Hub LLC</div>"
   ]
  },
  {
   "cell_type": "markdown",
   "metadata": {},
   "source": [
    "# Design / Spur Gears\n",
    "---\n",
    "\n",
    "**Authors**:  Tugan Eritenel\n",
    "\n",
    "**Description**:  Design of spur gears, given geometric constraints."
   ]
  },
  {
   "cell_type": "markdown",
   "metadata": {},
   "source": [
    "## Table of Contents\n",
    "\n",
    "1. [References](#References)"
   ]
  },
  {
   "cell_type": "markdown",
   "metadata": {},
   "source": [
    "Notebook imports and settings"
   ]
  },
  {
   "cell_type": "code",
   "execution_count": 283,
   "metadata": {},
   "outputs": [],
   "source": [
    "import ipywidgets as widgets\n",
    "from IPython import display\n",
    "from IPython.core.display import HTML\n",
    "import pandas as pd\n",
    "from pprint import pprint\n",
    "import math"
   ]
  },
  {
   "cell_type": "code",
   "execution_count": 284,
   "metadata": {},
   "outputs": [],
   "source": [
    "def inv(a):\n",
    "    return math.tan(a) - a\n",
    "def alpha_at_given_d(d,d_b):\n",
    "    return math.acos(d_b/d)\n",
    "def thickness_at_given_d(d,d_p,d_b,alpha,m,x):\n",
    "    S_p = math.pi/2*m + 2*m*x*math.tan(alpha)\n",
    "    alpha_d = alpha_at_given_d(d,d_b)\n",
    "    S = d*(S_p/d_p+inv(alpha)-inv(alpha_d))\n",
    "    return S"
   ]
  },
  {
   "cell_type": "markdown",
   "metadata": {},
   "source": [
    "This chapter is on designing the geometry of spur gear pairs.  Here, the module and the center distance is specified. The gear pair is designed to achieve a desired gear ratio, while the gear geometry is within limits of certain criteria."
   ]
  },
  {
   "cell_type": "markdown",
   "metadata": {},
   "source": [
    "## Definitions and Gear Parameters \n",
    "The table below shows the definitions of basic gear geometry pramaters, and equations needed to calculate them.\n",
    "<table>\n",
    "    <thead>\n",
    "        <td>Parameter</td><td style=\"width:200px\">Expression</td><td>Units</td>\n",
    "    </thead>\n",
    "    <tr>\n",
    "        <td>Involute function</td><td>$\\rm{inv}\\left({\\theta}\\right) = \\tan\\theta - \\theta $</td><td>rad</td>\n",
    "    </tr>\n",
    "    <tr>\n",
    "        <td>Number of gear teeth</td><td>$z$</td><td>None</td>\n",
    "    </tr>\n",
    "    <tr>\n",
    "        <td>Normal module</td><td>$m$</td><td>mm</td>\n",
    "    </tr>\n",
    "    <tr>\n",
    "        <td>Generating pressure angle</td><td>$\\alpha$</td><td>deg</td>\n",
    "    </tr>\n",
    "    <tr>\n",
    "        <td>Profile shift</td><td>$x$</td><td>$m$</td>\n",
    "    </tr>\n",
    "    <tr>\n",
    "        <td>Topping</td><td>$y$</td><td>$m$</td>\n",
    "    </tr>\n",
    "    <tr>\n",
    "        <td>Pitch diameter</td><td>$d_p = mz$</td><td>mm</td>\n",
    "    </tr>\n",
    "    <tr>\n",
    "        <td>Base diameter</td><td>$d_b = d_p \\cos \\alpha$</td><td>mm</td>\n",
    "    </tr>\n",
    "    <tr>\n",
    "        <td>Tip diameter</td><td>$d_t= d_p + 2m\\left(1+x-y\\right)$</td><td>mm</td>\n",
    "    </tr>\n",
    "    <tr>\n",
    "        <td>Root diameter</td><td>$d_r= d_p + 2m\\left(-1.25+x\\right)$</td><td>mm</td>\n",
    "    </tr>\n",
    "    <tr>\n",
    "        <td>Base pitch</td><td>$B_p= m\\pi\\cos\\alpha$</td><td>mm</td>\n",
    "    </tr>\n",
    "</table>\n",
    "In a gear pair, parameters that belong to the first gear are indicated with subscript 1, and parameters that belong to the second gear are indicated with subscript 2.  The gear with the lower number of teeth is referred to as the \"pinion\", and the gear with the higher number of teeth is referred to as the \"wheel\". The term \"working\" refers to the parameters when the gear pair is operating at a given center distance.\n",
    "<table>\n",
    "    <thead>\n",
    "        <td>Parameter</td><td style=\"width:200px\">Expression</td><td>Units</td>\n",
    "    </thead>\n",
    "    <tr>\n",
    "        <td>Standard center distance</td><td>$a_0 = m\\frac{z_1 + z_2}{2}$</td><td>mm</td>\n",
    "    </tr>\n",
    "    <tr>\n",
    "        <td>Operating center distance</td><td>$a$</td><td>mm</td>\n",
    "    </tr>\n",
    "    <tr>\n",
    "        <td>Working pressure angle</td><td>$\\alpha_w = \\cos^{-1}\\left( \\frac{a_0}{a} \\cos\\alpha \\right) $</td><td>mm</td>\n",
    "    </tr>\n",
    "    <tr>\n",
    "        <td>Working pitch diameter</td><td>$d_w = \\frac{d_b}{\\cos\\alpha_w}$</td><td>mm</td>\n",
    "    </tr>\n",
    "    <tr>\n",
    "        <td>Contact ratio</td><td> $R = \\frac{\\frac{\\sqrt{d^2_{t,1} -d^2_{r,1}} + \\sqrt{d^2_{t,2} -d^2_{r,2}}}{4} -a\\sin\\alpha_w} {B_p}$ </td><td>None</td>\n",
    "    </tr>\n",
    "    \n",
    "</table>\n",
    "\n",
    "Parameters and expressions on tooth thickness, backlash, and tip-to-root clearances are given in table below.\n",
    "<table>\n",
    "    <thead>\n",
    "        <td>Parameter</td><td style=\"width:250px\">Expression</td><td>Units</td>\n",
    "    </thead>\n",
    "    <tr>\n",
    "        <td>Circular tooth thickness at pitch diameter</td><td> $S_p = \\frac{m}{2}\\pi + 2mx\\tan\\alpha$</td><td>mm</td>\n",
    "    </tr>\n",
    "    <tr>\n",
    "        <td>Pressure angle at a given diameter, $d$</td><td> $\\alpha(d) = \\cos^{-1}\\left(\\frac{d_b}{d} \\right)$</td><td>mm</td>\n",
    "    </tr>\n",
    "    <tr>\n",
    "        <td>Circular tooth thickness at a given diameter, $d$</td><td> $S(d) = d\\left( \\frac{S_p}{d_p} + \\rm{inv}\\alpha - \\rm{inv}\\alpha_d \\right)$</td><td>mm</td>\n",
    "    </tr>\n",
    "    <tr>\n",
    "        <td>Circular backlash</td><td> $B_c = \\frac{B_p}{\\cos\\alpha_w} - S\\left(d_{w,1}\\right) -  S\\left(d_{w,2}\\right)$</td><td>mm</td>\n",
    "    </tr>\n",
    "    <tr>\n",
    "        <td>Linear backlash</td><td> $B_l = B_c \\cos\\alpha_w$</td><td>mm</td>\n",
    "    </tr>\n",
    "    <tr>\n",
    "        <td>Pinion tip to gear root clearance</td><td> $c_1 =a - a_0 - m\\left(x_1+x_2 - y_1 \\right)$</td><td>mm</td>\n",
    "    </tr>\n",
    "    <tr>\n",
    "        <td>Gear tip to pinion root clearance</td><td> $c_2 =a - a_0 - m\\left(x_1+x_2 - y_2 \\right)$</td><td>mm</td>\n",
    "    </tr>\n",
    "</table>"
   ]
  },
  {
   "cell_type": "markdown",
   "metadata": {},
   "source": [
    "### Profile Shift\n",
    "Hob can be pushed or pulled while gears are manufactured.  This affects the shape of the gear tooth generated.  A positive profile shift indicates that the hob is pulled away from the gear center.\n",
    "#### Advantages of Positive Profile Shift\n",
    "<ul>\n",
    "    <li>Reduces or eliminates undercut</li>\n",
    "    <li>Reduces root stress by increasing tooth thickness</li>\n",
    "    <li>Improves radius of curvature at contact</li>\n",
    "</ul>\n",
    "#### Disadvantages of Positive Profile Shift\n",
    "<ul>\n",
    "    <li>Reduces tooth tip thickness, can lead to peaking</li>\n",
    "    <li>Can reduce contact ratio</li>\n",
    "</ul>\n",
    "    "
   ]
  },
  {
   "cell_type": "markdown",
   "metadata": {},
   "source": [
    "### Undercut\n",
    "Involute profile is not defined below the base circe.  Undercut occurs when hob cuts below the base circle, which increases stress concentration.  Undercut is generally to be avoided or reduced if possible.  Gears with low number of teeth are more prone to undercut.  \n",
    "The minimum number of gear teeth without undercut is given by,\n",
    "$$ z_{min} = \\frac{2}{\\sin^2\\alpha}$$\n",
    "where $\\alpha$ is the pressure angle of the hob.  Given the number of teeth, the minimum profile shift required to avoid undercut is given by,\n",
    "$$x=\\frac{z_{min} - z}{z_{min}}$$"
   ]
  },
  {
   "cell_type": "markdown",
   "metadata": {},
   "source": [
    "### Topping to Avoid Peaking and Tip-to-Root Interference\n",
    "#### Peaking\n",
    "Peaking occurs when the gear tooth tip thickness reaches zero due to positive profile shift.  Generally it is recommended that the tip thickness is greater than $0.25 m$, where $m$ is the normal module.\n",
    "#### Tip-to-Root Interference\n",
    "Tip-to-root interference occurs when the gear teeth are too long and interfere with the root of the mating gear due to positive profile shift.  Generally, it is recommended that tip-to-root clearance is equal to or greater than $0.25m$.  "
   ]
  },
  {
   "cell_type": "markdown",
   "metadata": {},
   "source": [
    "## Geometric Design Process\n",
    "The design process is explained by means of an example.<br>\n",
    "Requirements are as follows:"
   ]
  },
  {
   "cell_type": "code",
   "execution_count": 285,
   "metadata": {},
   "outputs": [
    {
     "data": {
      "application/vnd.jupyter.widget-view+json": {
       "model_id": "f3e655fe91c143e7bdb2fc3844aaf8ed",
       "version_major": 2,
       "version_minor": 0
      },
      "text/plain": [
       "HBox(children=(Output(),))"
      ]
     },
     "metadata": {},
     "output_type": "display_data"
    }
   ],
   "source": [
    "I = pd.Index([\"Module\",\"Working center distance\",\"Standard pressure angle\",\"Ratio\",\"Ratio tolerance\"],name=\"rows\")\n",
    "C = pd.Index([\"Common\"],name=\"columns\")\n",
    "df_requirements = pd.DataFrame(data=None,index=I,columns=C)\n",
    "df_requirements[\"Common\"][\"Module\"]=3\n",
    "df_requirements[\"Common\"][\"Working center distance\"]=110\n",
    "df_requirements[\"Common\"][\"Standard pressure angle\"]=20\n",
    "df_requirements[\"Common\"][\"Ratio\"]=22/7\n",
    "df_requirements[\"Common\"][\"Ratio tolerance\"]=0.1\n",
    "\n",
    "widget= widgets.Output()\n",
    "with widget:\n",
    "    display.display(df_requirements)\n",
    "hbox = widgets.HBox([widget])\n",
    "hbox\n"
   ]
  },
  {
   "cell_type": "markdown",
   "metadata": {},
   "source": [
    "### Choosing Number of Gear Teeth\n",
    "Since gear ratio is defined by $i=\\frac{z_2}{z_1}$, rearranging, $z_2=i z_1$.  To minimize the size of the gears, the lowest number of teeth should be chosen.  Minimum number of pinion teeth is chosen so that undercut is avoided."
   ]
  },
  {
   "cell_type": "code",
   "execution_count": 286,
   "metadata": {},
   "outputs": [
    {
     "name": "stdout",
     "output_type": "stream",
     "text": [
      "z_1 = 17\n",
      "z_2 = 53\n",
      "i = 3.1176470588235294\n"
     ]
    }
   ],
   "source": [
    "alpha=20/180*math.pi\n",
    "i = df_requirements[\"Common\"][\"Ratio\"]\n",
    "i_tol = df_requirements[\"Common\"][\"Ratio tolerance\"]\n",
    "m = df_requirements[\"Common\"][\"Module\"]\n",
    "a = df_requirements[\"Common\"][\"Working center distance\"]\n",
    "\n",
    "z_1 = 2/(math.sin(alpha)**2)\n",
    "z_1 = int(round(z_1))\n",
    "z_2 = int(round(z_1*i))\n",
    "i_actual = z_2/z_1\n",
    "while abs(i_actual - i)>i_tol:\n",
    "    z_1=z_1+1\n",
    "    z_2 = int(round(z_1*i))\n",
    "    i_actual = z_2/z_1\n",
    "\n",
    "i = i_actual\n",
    "print(\"z_1 =\",z_1)\n",
    "print(\"z_2 =\",z_2)\n",
    "print(\"i =\",i)"
   ]
  },
  {
   "cell_type": "markdown",
   "metadata": {},
   "source": [
    "The standard center distance and working pressure angle are,"
   ]
  },
  {
   "cell_type": "code",
   "execution_count": 287,
   "metadata": {},
   "outputs": [
    {
     "name": "stdout",
     "output_type": "stream",
     "text": [
      "a_0 = 105.0\n",
      "alpha_w = 26.23619006066304\n"
     ]
    }
   ],
   "source": [
    "a_0 = m*(z_1+z_2)/2\n",
    "alpha_w = math.acos(a_0/a*math.cos(alpha))\n",
    "print(\"a_0 =\", a_0)\n",
    "print(\"alpha_w =\", alpha_w*180/math.pi)"
   ]
  },
  {
   "cell_type": "markdown",
   "metadata": {},
   "source": [
    "### Operating at the required center distance\n",
    "Usually, the standard center distance does not exactly the required center distance, which may be dictated by other design restrictions such as packaging or manufacturing.  Generally the gear tooth numbers are chosen such that the operating center distance is greater than the standard center distance; this is called extended center distance. If the gears operate at extended center distance without profile shift, undesirable large backash will result and the contact ratio may be too low. For these reasons, profile shift is applied such that the only source of backlash is the thinning of the hob.  Whether or not the centers are extended, any undercut on the pinion may be removed by moving the profile shift to the gear. <br>\n",
    "The total profile shift needed is found by,\n",
    "$$x_1 + x_2 = \\frac{\\left(z_1+z_2\\right) \\left(\\rm{inv}\\alpha_w -\\rm{inv}\\alpha\\right)}{2\\tan\\alpha}$$\n"
   ]
  },
  {
   "cell_type": "markdown",
   "metadata": {},
   "source": [
    "The equation above results in gears with zero backlash excluding what is built into the hob.  If a specified curcular backlash is required, the total profile shift can be updated by, \n",
    "$$x_{mod} = -\\frac{B_{c,req}}{2 m \\tan\\alpha} \\frac{\\cos\\alpha_w}{\\cos\\alpha}$$\n",
    "which modifies the total profile shift by,\n",
    "$$ \\left(x_1 + x_2 \\right)_{\\rm{new}}= x_1+x_2 + x_{mod}$$"
   ]
  },
  {
   "cell_type": "code",
   "execution_count": 288,
   "metadata": {},
   "outputs": [
    {
     "name": "stdout",
     "output_type": "stream",
     "text": [
      "x_mod = -0.043709868036778086\n"
     ]
    }
   ],
   "source": [
    "Breq=0.1\n",
    "x_mod = -Breq/(2*m*math.tan(alpha))*math.cos(alpha_w)/math.cos(alpha)\n",
    "print(\"x_mod =\", x_mod)"
   ]
  },
  {
   "cell_type": "code",
   "execution_count": 289,
   "metadata": {},
   "outputs": [
    {
     "name": "stdout",
     "output_type": "stream",
     "text": [
      "x_1 + x_2 = 1.8827488892604312\n"
     ]
    }
   ],
   "source": [
    "x_total = (z_1 + z_2)*(inv(alpha_w) - inv(alpha))/2/math.tan(alpha) \n",
    "x_total = x_total +x_mod\n",
    "print(\"x_1 + x_2 =\",x_total)"
   ]
  },
  {
   "cell_type": "markdown",
   "metadata": {},
   "source": [
    "### Distributing the total profile shift\n",
    "The total profile shift needed for the gears to operate at the required center distance can be distributed in any way between the pinion and the gear.  However, a few empirical equations help improve the design. <br>\n",
    "For reduced sliding velocity, \n",
    "$$x_1 \\approx \\frac{x_1+x_2}{i+1}+\\frac{i-1}{i+1+0.4 z_2}$$\n",
    "For equal root stress,\n",
    "$$x_1 \\approx \\frac{x_1+x_2}{i+1}+\\frac{1}{2}\\left(\\frac{i-1}{i+1}\\right)$$\n",
    "For equal contact pressure,\n",
    "$$x_1 \\approx \\frac{x_1+x_2}{i+1}\\frac{z_1+12}{z_1+2} + \\frac{8}{z_1+2}$$\n",
    "Using the formula for equal root stress, "
   ]
  },
  {
   "cell_type": "code",
   "execution_count": 290,
   "metadata": {},
   "outputs": [
    {
     "name": "stdout",
     "output_type": "stream",
     "text": [
      "x_1 = 0.7143818731061048\n",
      "x_2 = 1.1683670161543263\n"
     ]
    }
   ],
   "source": [
    "x_1 = x_total/(i+1)+0.5*(i-1)/(i+1)\n",
    "x_2 = x_total - x_1\n",
    "\n",
    "print(\"x_1 =\",x_1)\n",
    "print(\"x_2 =\",x_2)"
   ]
  },
  {
   "cell_type": "markdown",
   "metadata": {},
   "source": [
    "<b>Check for undercut in pinion and gear.</b>"
   ]
  },
  {
   "cell_type": "code",
   "execution_count": 291,
   "metadata": {},
   "outputs": [],
   "source": [
    "z_min = 2/math.sin(alpha)**2 \n",
    "x_1_min = (z_min-z_1)/z_min\n",
    "x_2_min = (z_min-z_2)/z_min\n",
    "if x_1<x_1_min:\n",
    "    display.display(HTML('<div class=\"alert alert-block alert-danger\">Pinion is undercut</div>'))\n",
    "\n",
    "if x_2<x_2_min:\n",
    "    display.display(HTML('<div class=\"alert alert-block alert-danger\">Gear is undercut</div>'))\n"
   ]
  },
  {
   "cell_type": "markdown",
   "metadata": {},
   "source": [
    "Find required topping, if needed, so that <b>tip-to-root clearance</b> is at least $0.25m$, "
   ]
  },
  {
   "cell_type": "code",
   "execution_count": 292,
   "metadata": {},
   "outputs": [
    {
     "data": {
      "text/html": [
       "<div class=\"alert alert-block alert-warning\">Topping is applied</div>"
      ],
      "text/plain": [
       "<IPython.core.display.HTML object>"
      ]
     },
     "metadata": {},
     "output_type": "display_data"
    },
    {
     "name": "stdout",
     "output_type": "stream",
     "text": [
      "Topping is applied, y= 0.4660822225937642\n"
     ]
    }
   ],
   "source": [
    "c_req=0.25\n",
    "y = c_req+x_total-(a-a_0)/m\n",
    "if y>0:\n",
    "    display.display(HTML('<div class=\"alert alert-block alert-warning\">Topping is applied</div>'))\n",
    "    print(\"Topping is applied, y=\",y)\n",
    "    y_1=y\n",
    "    y_2=y\n",
    "else:\n",
    "    y_1=0\n",
    "    y_2=0"
   ]
  },
  {
   "cell_type": "markdown",
   "metadata": {},
   "source": [
    "Check that tooth tip thickness is at least $0.25m$,"
   ]
  },
  {
   "cell_type": "code",
   "execution_count": 293,
   "metadata": {},
   "outputs": [
    {
     "name": "stdout",
     "output_type": "stream",
     "text": [
      "S_t1/m = 0.9500923153558003\n",
      "S_t2/m = 0.9920027069886594\n"
     ]
    }
   ],
   "source": [
    "d_p1 = z_1*m\n",
    "d_b1 = d_p1*math.cos(alpha)\n",
    "d_t1 = d_p1 + 2*m*(1+x_1-y_1)\n",
    "S_t1 = thickness_at_given_d(d_t1,d_p1,d_b1,alpha,m,x_1)\n",
    "print(\"S_t1/m =\", S_t1/m)\n",
    "if S_t1/m<0.25:\n",
    "    print(\"Tooth tip thickness is too small, reduce profile shift or increase topping.\")\n",
    "    \n",
    "d_p2 = z_2*m\n",
    "d_b2 = d_p2*math.cos(alpha)\n",
    "d_t2 = d_p2 + 2*m*(1+x_2-y_2)\n",
    "S_t2 = thickness_at_given_d(d_t2,d_p2,d_b2,alpha,m,x_2)\n",
    "print(\"S_t2/m =\", S_t2/m)\n",
    "if S_t2/m<0.25:\n",
    "    print(\"Tooth tip thickness is too small, reduce profile shift or increase topping.\")\n",
    "    \n",
    "d_r1 = d_p1 + 2*m*(-1.25+x_1)\n",
    "d_r2 = d_p2 + 2*m*(-1.25+x_2)"
   ]
  },
  {
   "cell_type": "markdown",
   "metadata": {},
   "source": [
    "Backlash required can be found in IS:4460.  For low speed gears where pitch line velocity is below 8 m/s, maximum backlash for $m=2$ mm is 0.13 mm, for $m=8$ mm, is 0.4mm. For higher speed gears where pitch line velocity is above 8 m/s, maximum backlash for $m=2$ mm is 0.18 mm, for $m=8$ mm, is unchanged at 0.4mm.<br>\n",
    "Check backlash below.  Note that the backlash calculated here should match the specified backlash $B_{req}$.  "
   ]
  },
  {
   "cell_type": "code",
   "execution_count": 294,
   "metadata": {},
   "outputs": [
    {
     "name": "stdout",
     "output_type": "stream",
     "text": [
      "B_c = 0.1\n"
     ]
    }
   ],
   "source": [
    "BP = m*math.pi*math.cos(alpha)\n",
    "d_w1 = d_b1/math.cos(alpha_w)\n",
    "d_w2 = d_b2/math.cos(alpha_w)\n",
    "B_c = BP/math.cos(alpha_w) - thickness_at_given_d(d_w1,d_p1,d_b1,alpha,m,x_1) - thickness_at_given_d(d_w2,d_p2,d_b2,alpha,m,x_2)\n",
    "print(\"B_c =\",round(B_c,6))"
   ]
  },
  {
   "cell_type": "markdown",
   "metadata": {},
   "source": [
    "Contact ratio is found from tip and root diameters as given by the equation\n",
    "$$R = \\frac{\\frac{\\sqrt{d^2_{t,1} -d^2_{r,1}} + \\sqrt{d^2_{t,2} -d^2_{r,2}}}{4} -a\\sin\\alpha_w} {B_p}$$"
   ]
  },
  {
   "cell_type": "code",
   "execution_count": 295,
   "metadata": {},
   "outputs": [
    {
     "name": "stdout",
     "output_type": "stream",
     "text": [
      "CR =  0.8868067865602369\n"
     ]
    },
    {
     "data": {
      "text/html": [
       "<div class=\"alert alert-block alert-danger\">Contact ratio is too small<br>Update design requirements</div>"
      ],
      "text/plain": [
       "<IPython.core.display.HTML object>"
      ]
     },
     "metadata": {},
     "output_type": "display_data"
    }
   ],
   "source": [
    "CR = (math.sqrt( d_t1**2/4 - d_b1**2/4 ) + math.sqrt( d_t2**2/4 - d_b2**2/4 ) - a*math.sin(alpha_w) )/ (BP)\n",
    "print(\"CR = \", CR)\n",
    "if CR<1.1:\n",
    "    display.display(HTML('<div class=\"alert alert-block alert-danger\">Contact ratio is too small<br>Update design requirements</div>'))"
   ]
  },
  {
   "cell_type": "markdown",
   "metadata": {},
   "source": [
    "Calculate tip-to-root clearance.  Note that this should match the required clearance, sicne topping is calculated to maintain $0.25m$ clearance."
   ]
  },
  {
   "cell_type": "code",
   "execution_count": 296,
   "metadata": {},
   "outputs": [
    {
     "name": "stdout",
     "output_type": "stream",
     "text": [
      "c_1/m = 0.25\n",
      "c_2/m = 0.25\n"
     ]
    }
   ],
   "source": [
    "c_1 = a - a_0 - m*(x_1+x_2 - y_1 )\n",
    "c_2 = a - a_0 - m*(x_1+x_2 - y_2 )\n",
    "print(\"c_1/m =\",c_1/m)\n",
    "print(\"c_2/m =\",c_2/m)"
   ]
  },
  {
   "cell_type": "markdown",
   "metadata": {},
   "source": [
    "The following table summarizes the gear geometry as designed.<br>"
   ]
  },
  {
   "cell_type": "code",
   "execution_count": 297,
   "metadata": {},
   "outputs": [
    {
     "data": {
      "application/vnd.jupyter.widget-view+json": {
       "model_id": "2d6bd8b2a6914683a484c4e49d56341e",
       "version_major": 2,
       "version_minor": 0
      },
      "text/plain": [
       "HBox(children=(Output(),))"
      ]
     },
     "metadata": {},
     "output_type": "display_data"
    }
   ],
   "source": [
    "I_rows = pd.Index([\"Number of teeth\", \"Module\",\"Standard center distance\",\"Working center distance\",\n",
    "                   \"Standard pressure angle\",\"Working pressure angle\",\"Backlash\",\"Backlash / module\",\"Contact ratio\",\n",
    "                   \"Profile shift\",\"Topping\",\n",
    "                   \"Pitch diameter\",\"Tip diameter\",\"Root diameter\",\"Base diameter\",\n",
    "                   \"Tooth tip thickness\",\"Tooth tip thickness / module\", \"Tip root clearance\",\"Tip root clearance / module\"\n",
    "                  ], name=\"rows\")\n",
    "I_columns = pd.Index([\"Pinion\",\"Common\",\"Gear\"],name=\"columns\")\n",
    "df = pd.DataFrame(data=None,index=I_rows,columns=I_columns)\n",
    "\n",
    "col_name = \"Number of teeth\"\n",
    "df[\"Pinion\"][col_name] = z_1\n",
    "df[\"Gear\"][col_name] = z_2\n",
    "df[\"Common\"][col_name] = \"\"\n",
    "\n",
    "col_name = \"Module\"\n",
    "df[\"Pinion\"][col_name] = \"\"\n",
    "df[\"Gear\"][col_name] = \"\"\n",
    "df[\"Common\"][col_name] = m\n",
    "\n",
    "col_name = \"Standard pressure angle\"\n",
    "df[\"Pinion\"][col_name] = \"\"\n",
    "df[\"Gear\"][col_name] = \"\"\n",
    "df[\"Common\"][col_name] = alpha*180/math.pi\n",
    "\n",
    "col_name = \"Working pressure angle\"\n",
    "df[\"Pinion\"][col_name] = \"\"\n",
    "df[\"Gear\"][col_name] = \"\"\n",
    "df[\"Common\"][col_name] = alpha_w*180/math.pi\n",
    "\n",
    "col_name = \"Standard center distance\"\n",
    "df[\"Pinion\"][col_name] = \"\"\n",
    "df[\"Gear\"][col_name] = \"\"\n",
    "df[\"Common\"][col_name] = a_0\n",
    "\n",
    "col_name = \"Working center distance\"\n",
    "df[\"Pinion\"][col_name] = \"\"\n",
    "df[\"Gear\"][col_name] = \"\"\n",
    "df[\"Common\"][col_name] = a\n",
    "\n",
    "col_name = \"Pitch diameter\"\n",
    "df[\"Pinion\"][col_name] = d_p1\n",
    "df[\"Gear\"][col_name] = d_p2\n",
    "df[\"Common\"][col_name] = \"\"\n",
    "\n",
    "col_name = \"Root diameter\"\n",
    "df[\"Pinion\"][col_name] = d_r1\n",
    "df[\"Gear\"][col_name] = d_r2\n",
    "df[\"Common\"][col_name] = \"\"\n",
    "\n",
    "col_name = \"Base diameter\"\n",
    "df[\"Pinion\"][col_name] = d_b1\n",
    "df[\"Gear\"][col_name] = d_b2\n",
    "df[\"Common\"][col_name] = \"\"\n",
    "\n",
    "col_name = \"Tip diameter\"\n",
    "df[\"Pinion\"][col_name] = d_t1\n",
    "df[\"Gear\"][col_name] = d_t2\n",
    "df[\"Common\"][col_name] = \"\"\n",
    "\n",
    "\n",
    "col_name = \"Profile shift\"\n",
    "df[\"Pinion\"][col_name] = x_1\n",
    "df[\"Gear\"][col_name] = x_2\n",
    "df[\"Common\"][col_name] = \"\"\n",
    "\n",
    "col_name = \"Topping\"\n",
    "df[\"Pinion\"][col_name] = y_1\n",
    "df[\"Gear\"][col_name] = y_2\n",
    "df[\"Common\"][col_name] = \"\"\n",
    "\n",
    "col_name = \"Tooth tip thickness\"\n",
    "df[\"Pinion\"][col_name] = S_t1\n",
    "df[\"Gear\"][col_name] = S_t2\n",
    "df[\"Common\"][col_name] = \"\"\n",
    "\n",
    "col_name = \"Tooth tip thickness / module\"\n",
    "df[\"Pinion\"][col_name] = S_t1/m\n",
    "df[\"Gear\"][col_name] = S_t2/m\n",
    "df[\"Common\"][col_name] = \"\"\n",
    "\n",
    "\n",
    "col_name = \"Tip root clearance\"\n",
    "df[\"Pinion\"][col_name] = c_1\n",
    "df[\"Gear\"][col_name] = c_2\n",
    "df[\"Common\"][col_name] = \"\"\n",
    "\n",
    "col_name = \"Tip root clearance / module\"\n",
    "df[\"Pinion\"][col_name] = c_1/m\n",
    "df[\"Gear\"][col_name] = c_2/m\n",
    "df[\"Common\"][col_name] = \"\"\n",
    "\n",
    "col_name = \"Backlash\"\n",
    "df[\"Pinion\"][col_name] = \"\"\n",
    "df[\"Gear\"][col_name] = \"\"\n",
    "df[\"Common\"][col_name] = B_c\n",
    "\n",
    "col_name = \"Backlash / module\"\n",
    "df[\"Pinion\"][col_name] = \"\"\n",
    "df[\"Gear\"][col_name] = \"\"\n",
    "df[\"Common\"][col_name] = B_c/m\n",
    "\n",
    "col_name = \"Contact ratio\"\n",
    "df[\"Pinion\"][col_name] = \"\"\n",
    "df[\"Gear\"][col_name] = \"\"\n",
    "df[\"Common\"][col_name] = CR\n",
    "\n",
    "widget1 = widgets.Output()\n",
    "with widget1:\n",
    "    display.display(df)\n",
    "hbox = widgets.HBox([widget1])\n",
    "hbox\n",
    "# print(df)"
   ]
  },
  {
   "cell_type": "markdown",
   "metadata": {},
   "source": [
    "## References\n",
    "\n",
    "1. G. M. Maitra, (1994), \"Handbook of Gear Design\", Tata McGraw-Hill"
   ]
  }
 ],
 "metadata": {
  "kernelspec": {
   "display_name": "Python 3",
   "language": "python",
   "name": "python3"
  },
  "language_info": {
   "codemirror_mode": {
    "name": "ipython",
    "version": 3
   },
   "file_extension": ".py",
   "mimetype": "text/x-python",
   "name": "python",
   "nbconvert_exporter": "python",
   "pygments_lexer": "ipython3",
   "version": "3.6.7"
  }
 },
 "nbformat": 4,
 "nbformat_minor": 2
}
