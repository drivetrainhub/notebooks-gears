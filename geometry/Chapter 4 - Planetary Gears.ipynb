{
 "cells": [
  {
   "cell_type": "markdown",
   "metadata": {},
   "source": [
    "[<img align=\"left\" width=\"140px\" src=\"https://storage.googleapis.com/static.drivetrainhub.com/img/dh_logo_text_217x80.png\"/>](https://drivetrainhub.com)\n",
    "\n",
    "<div align=\"right\">© 2020 Drivetrain Hub LLC</div>"
   ]
  },
  {
   "cell_type": "markdown",
   "metadata": {},
   "source": [
    "# Geometry / Planetary Gears\n",
    "---\n",
    "\n",
    "**Authors**:  [Chad Glinsky](https://www.linkedin.com/in/chad-glinsky-a1840b13/)\n",
    "\n",
    "**Description**:  Review of geometry for planetary gears and planetary gear meshes."
   ]
  },
  {
   "cell_type": "markdown",
   "metadata": {},
   "source": [
    "## Table of Contents\n",
    "\n",
    "1. [Introduction](#Introduction)\n",
    "1. [Standard Planetary](#Standard-Planetary)\n",
    "    1. [Nomenclature](#Nomenclature-1)\n",
    "    1. [Constraints](#Constraints)\n",
    "    1. [Example - Spur](#Standard-Example-1)\n",
    "    1. [Example - Helical](#Standard-Example-2)\n",
    "1. [Compound Planetary](#Compound-Planetary)\n",
    "    1. [Nomenclature](#Nomenclature-2)\n",
    "    1. [Constraints](#Constraints)\n",
    "    1. [Example - Spur](#Compound-Example-1)\n",
    "    1. [Example - Helical](#Compound-Example-2)\n",
    "1. [References](#References)"
   ]
  },
  {
   "cell_type": "markdown",
   "metadata": {
    "tags": [
     "hide_cell"
    ]
   },
   "source": [
    "#### Notebook imports and settings"
   ]
  },
  {
   "cell_type": "code",
   "execution_count": 62,
   "metadata": {
    "tags": [
     "hide_cell"
    ]
   },
   "outputs": [],
   "source": [
    "%matplotlib inline\n",
    "import matplotlib.pyplot as plt\n",
    "from mpl_toolkits.mplot3d import Axes3D\n",
    "from math import pi, radians, degrees, isclose, sqrt, asin, floor, ceil\n",
    "import numpy as np\n",
    "import pandas as pd\n",
    "import qgrid\n",
    "from IPython.display import display, HTML\n",
    "\n",
    "# notebook modules\n",
    "import planetary\n",
    "\n",
    "# settings\n",
    "FIGSIZE = (6, 6)  # size of plots\n",
    "plt.rcParams.update({'font.size': 12})  # set default font size"
   ]
  },
  {
   "cell_type": "code",
   "execution_count": 63,
   "metadata": {
    "tags": [
     "hide_cell"
    ]
   },
   "outputs": [
    {
     "name": "stdout",
     "output_type": "stream",
     "text": [
      "The autoreload extension is already loaded. To reload it, use:\n",
      "  %reload_ext autoreload\n"
     ]
    }
   ],
   "source": [
    "# DEVELOPMENT USE: %autoreload 1\n",
    "# PRODUCTION USE: %autoreload 0\n",
    "%load_ext autoreload\n",
    "%autoreload 1\n",
    "%aimport planetary"
   ]
  },
  {
   "cell_type": "markdown",
   "metadata": {
    "tags": [
     "hide_cell"
    ]
   },
   "source": [
    "$\\LaTeX$ commands\n",
    "$\\newcommand{\\inv}{\\text{inv }}$\n",
    "$\\newcommand{\\mm}{\\text{mm}}$\n",
    "$\\newcommand{\\deg}{^\\circ}$\n",
    "$\\newcommand{\\degt}{\\text{deg}}$\n",
    "$\\newcommand{\\perinch}{\\text{in}^{-1}}$\n",
    "$\\newcommand{\\mps}{\\text{m/s}}$\n",
    "$\\newcommand{\\rpm}{\\text{rpm}}$"
   ]
  },
  {
   "cell_type": "raw",
   "metadata": {},
   "source": [
    "$\\newcommand{\\inv}{\\text{inv }}$\n",
    "$\\newcommand{\\mm}{\\text{mm}}$\n",
    "$\\newcommand{\\deg}{^\\circ}$\n",
    "$\\newcommand{\\degt}{\\text{deg}}$\n",
    "$\\newcommand{\\perinch}{\\text{in}^{-1}}$\n",
    "$\\newcommand{\\mps}{\\text{m/s}}$\n",
    "$\\newcommand{\\rpm}{\\text{rpm}}$"
   ]
  },
  {
   "cell_type": "markdown",
   "metadata": {},
   "source": [
    "## Introduction\n",
    "\n",
    "The geometry of planetary gears and gear meshes is reviewed here.  Planetary geartrains can be configured in several ways, with the most common architectures reviewed here.  Attractive characteristics of planetary geartrains include:\n",
    "\n",
    "- Mechanical power is transferred between concentric bodies (ring, sun, carrier)\n",
    "- Power density is high, providing great mechanical power in a small package\n",
    "- Multiple gear meshes act on central bodies, with self-centering tendencies\n",
    "- Planet gears may precess with the carrier reference frame\n",
    "- Cylindrical involute gears are used to transmit motion\n",
    "- Multiple power inputs or outputs can be defined\n",
    "\n",
    "The visualization of a planetary geartrain clearly demonstrates its unique geometric characteristics.\n",
    "\n",
    "<img src=\"./img/drivetrainhub_planetary_spur_gears.png\" alt=\"Spur planetary geartrain\" style=\"max-height: 350px; max-width: 100%\"/>\n",
    "<p style=\"text-align: center; font-weight: bold;\">Planetary geartrain modeled with <a href=\"https://drivetrainhub.com/gears\" style=\"text-decoration: none;\">Gears App</a></p>\n",
    "\n",
    "\n",
    "Most commonly, planetary geartrains have a sun gear (yellow), ring gear (blue), and multiple planet gears (orange) on a carrier (gray). Spur or helical gears are used for a planetary gearset, with each type having advantages.  This notebook reviews the unique geometric attributes of planetary gears and their significance to planetary gear mesh operation.\n",
    "\n",
    "<div class=\"alert alert-block alert-info\" style=\"box-shadow: 2px 2px 4px 0px rgba(0, 0, 0, .13);\">\n",
    "    <b>The assembly of a planetary geartrain is dependent on various geometric attributes, such as tooth counts.</b>\n",
    "    <br><br>\n",
    "    The various conditions that must be satisfied for a planetary geartrain to successfully assemble are reviewed in this notebook.  To understand the geometry of the spur or helical gears that makeup a planetary geartrain, see the respective notebooks on gear geometry.\n",
    "</div>"
   ]
  },
  {
   "cell_type": "markdown",
   "metadata": {},
   "source": [
    "## Standard Planetary\n",
    "\n",
    "This section reviews the design layout of standard planetary geartrains, i.e. planetaries with a single sun, ring, and set of planets like shown in the image below.  Working examples are provided for spur and helical planetary geartrains.\n",
    "\n",
    "*TODO replace with 4-planet image*\n",
    "\n",
    "<img src=\"./img/drivetrainhub_planetary_helical_gears.png\" alt=\"Helical planetary geartrain\" style=\"max-height: 350px; max-width: 100%\"/>\n",
    "<p style=\"text-align: center; font-weight: bold;\">Standard planetary modeled with <a href=\"https://drivetrainhub.com/gears\" style=\"text-decoration: none;\">Gears App</a></p>"
   ]
  },
  {
   "cell_type": "markdown",
   "metadata": {},
   "source": [
    "### Nomenclature <a name=\"Nomenclature-1\"></a>\n",
    "\n",
    "This table provides a set of parameters commonly used to define the geometry of planetary geartrains.\n",
    "\n",
    "<table style=\"margin-left: 0\">\n",
    "    <tr>\n",
    "        <th>Symbol</th>\n",
    "        <th style=\"text-align:left\">Description</th>\n",
    "    </tr>\n",
    "    <tr>\n",
    "        <td style=\"text-align:left\">$m_n$</td>\n",
    "        <td style=\"text-align:left\">Normal module</td>\n",
    "    </tr>\n",
    "    <tr>\n",
    "        <td style=\"text-align:left\">$z$</td>\n",
    "        <td style=\"text-align:left\">Number of teeth</td>\n",
    "    </tr>\n",
    "    <tr>\n",
    "        <td style=\"text-align:left\">$\\beta$</td>\n",
    "        <td style=\"text-align:left\">Helix angle</td>\n",
    "    </tr>\n",
    "    <tr>\n",
    "        <td style=\"text-align:left\">$d_a$</td>\n",
    "        <td style=\"text-align:left\">Tip diameter</td>\n",
    "    </tr>\n",
    "    <tr>\n",
    "        <td style=\"text-align:left\">$p_t$</td>\n",
    "        <td style=\"text-align:left\">Transverse pitch</td>\n",
    "    </tr>\n",
    "    <tr>\n",
    "        <td style=\"text-align:left\">$d_w$</td>\n",
    "        <td style=\"text-align:left\">Pitch diameter</td>\n",
    "    </tr>\n",
    "    <tr>\n",
    "        <td style=\"text-align:left\">$a$</td>\n",
    "        <td style=\"text-align:left\">Center distance</td>\n",
    "    </tr>\n",
    "    <tr>\n",
    "        <td style=\"text-align:left\">$l$</td>\n",
    "        <td style=\"text-align:left\">Planet distance</td>\n",
    "    </tr>\n",
    "    <tr>\n",
    "        <td style=\"text-align:left\">$N$</td>\n",
    "        <td style=\"text-align:left\">Number of planets</td>\n",
    "    </tr>\n",
    "</table>\n",
    "\n",
    "<div class=\"alert alert-block alert-info\" style=\"box-shadow: 2px 2px 4px 0px rgba(0, 0, 0, .13);\">\n",
    "    For a planetary geartrain, the subscripts <sub>$1$</sub>, <sub>$2$</sub>, and <sub>$3$</sub> are used for the sun, planet, and ring gears, respectively.\n",
    "</div>"
   ]
  },
  {
   "cell_type": "markdown",
   "metadata": {},
   "source": [
    "### Constraints\n",
    "\n",
    "To design a *valid* planetary geartrain, one that can be assembled and operate in real-world applications, multiple constraints must be adhered to.  All the constraints relate to geometrical relationships of planetary geartrains.\n",
    "\n",
    "<div class=\"alert alert-block alert-info\" style=\"box-shadow: 2px 2px 4px 0px rgba(0, 0, 0, .13);\">\n",
    "    <strong>Geometric layouts are used to study the feasible design space for planetary geartrains.</strong>\n",
    "    <br><br>\n",
    "    As will be shown, only certain combinations of tooth counts, planet count, and planet spacing are possible.\n",
    "</div>"
   ]
  },
  {
   "cell_type": "markdown",
   "metadata": {},
   "source": [
    "#### Center Distance\n",
    "\n",
    "The geometric condition that requires the center distance for the sun-planet and planet-ring gear meshes to be the same is obvious when illustrated.  The equation to express this relationship can be expanded as a function of the working pitch diameters:\n",
    "\n",
    "$$\\lvert a_{12} \\rvert = \\lvert a_{2'3} \\rvert$$\n",
    "\n",
    "$$\\lvert d_{w1} + d_{w2} \\rvert = \\lvert d_{w2'} + d_{w3} \\rvert$$\n",
    "\n",
    "**FIXME improve description below; profile shifts can lead to the carrier PCD being such that it is not in the exact center**\n",
    "\n",
    "where $d_{w2'}$ specifically refers to the working pitch diameter of the planet-ring gear mesh, which may differ from the sun-planet mesh due to profile shifts allowing tooth counts to differ from the condition of zero profile shift or backlash.  Below illustrates a layout diagram for a 3-planet geartrain:\n",
    "\n",
    "*TODO drawing of enveloping geometry and planet clearance*\n",
    "\n",
    "<div class=\"alert alert-block alert-info\" style=\"box-shadow: 2px 2px 4px 0px rgba(0, 0, 0, .13);\">\n",
    "    <strong>Analogous to an idler gear, the planet gear has no effect on the planetary transmission ratios.</strong>\n",
    "    <br><br>\n",
    "    When considering the detailed tooth form of the meshing gears, this means multiple values of planet tooth count are possible for a given design.  The design space is somewhat complicated by this, but it is more applicable to the detailed tooth design, so does not require immediate consideration.\n",
    "</div>"
   ]
  },
  {
   "cell_type": "markdown",
   "metadata": {},
   "source": [
    "#### Planet Interference\n",
    "\n",
    "Upon viewing the enveloping geometry, notice the condition of planet-to-planet interference must be considered.  Clearance must exist between the tip diameters of each planet.  The equation to express this constraint is:\n",
    "\n",
    "$$l > d_{a2}$$\n",
    "\n",
    "where $l$ is the center distance between planets, expressed as:\n",
    "\n",
    "$$l = 2a\\sin\\left(\\frac{\\pi}{N}\\right)$$\n",
    "\n",
    "<div class=\"alert alert-block alert-info\" style=\"box-shadow: 2px 2px 4px 0px rgba(0, 0, 0, .13);\">\n",
    "    In the conceptual design stage, tip diameters are usually unknown, so the pitch diameter may be used as an initial approximation.\n",
    "</div>"
   ]
  },
  {
   "cell_type": "code",
   "execution_count": 83,
   "metadata": {},
   "outputs": [],
   "source": [
    "# TODO planet interference equation; see example"
   ]
  },
  {
   "cell_type": "markdown",
   "metadata": {},
   "source": [
    "#### Meshing Teeth\n",
    "\n",
    "Despite a given enveloping diagram appearing as a valid design, remember that an integer number of teeth is required for all the gears.  Adding to this requirement, the teeth of each planet must mesh with both the sun and ring.  Determining valid conditions for teeth to mesh depends on the tooth counts, number of planets, and planet spacing.\n",
    "\n",
    "To understand this requirement, let's imagine assembling a planetary geartrain.  First, position the sun at the origin with any angle of rotation.  Next, add the first planet to a desired carrier position, rotating its teeth to mesh with the sun.  Then, position the ring at the origin, rotating its teeth to mesh with the planet.  Now, imagine adding the second planet somewhere on the carrier, not being allowed to rotate the sun or ring.  Only certain carrier positions will allow the second planet to mesh with both the sun and ring.\n",
    "\n",
    "##### Equal Spacing\n",
    "\n",
    "For *equally-spaced planets*, the following equation is used to identify valid meshing conditions for a given number of planets and tooth counts:\n",
    "\n",
    "$$\\frac{z_1 - z_3}{N} = k$$\n",
    "\n",
    "where $k$ must be an integer for the gears to mesh.\n",
    "\n",
    "##### Unequal Spacing\n",
    "\n",
    "It is also possible for the gears to mesh with *unequal planet spacing*.  When doing so, the angular unit pertaining to the ring gear transverse pitch (<== FIXME?) is used to increment a planet away from its equally-spaced position.\n",
    "\n",
    "*TODO equation*"
   ]
  },
  {
   "cell_type": "code",
   "execution_count": 82,
   "metadata": {},
   "outputs": [],
   "source": [
    "# TODO planet spacing equations; see example"
   ]
  },
  {
   "cell_type": "markdown",
   "metadata": {},
   "source": [
    "#### Mesh Phasing\n",
    "\n",
    "Once the geometric conditions are met to ensure a valid planetary geartrain can be assembled, it is also of interest to consider the phasing of the planetary gear meshes.  Phasing refers to the cyclic behavior of multiple gear meshes with the same frequency.\n",
    "\n",
    "Three types of planetary phasing exist for nominal conditions.\n",
    "1. In-phase\n",
    "1. Sequential-phase\n",
    "1. Counter-phase\n",
    "\n",
    "Before explaining each phasing type, it must understood that phasing specifically refers to the phase angle for the harmonics of gear mesh excitation caused by imperfect conjugate action, commonly referred to as transmission error.  These excitations are caused by numerous things, including manufacturing and assembly errors, but also due to the deflection of gear teeth under operating loads.\n",
    "\n",
    "<div class=\"alert alert-block alert-info\" style=\"box-shadow: 2px 2px 4px 0px rgba(0, 0, 0, .13);\">\n",
    "    <strong>Gear mesh excitations can be viewed as a series of sinusoidal signals, called harmonics, each with an amplitude and phase angle.</strong>\n",
    "    <br><br>\n",
    "    Fourier transform is used to analyze a time signal as a series of sinusoids useful for harmonic analysis.\n",
    "</div>"
   ]
  },
  {
   "cell_type": "markdown",
   "metadata": {},
   "source": [
    "The phasing classification for a planetary geartrain is based on the first harmonic of its gear mesh excitations.  Higher harmonics may have different phasing.\n",
    "\n",
    "##### In-Phase\n",
    "\n",
    "*In-phase* refers to having the same phase angle for each gear mesh.  In-phase planetaries have reenforced torques but cancelled radial forces.  The condition for in-phase is:\n",
    "\n",
    "*TODO eqn for in-phase*\n",
    "\n",
    "##### Sequential-Phase\n",
    "\n",
    "*Sequential-phase* refers to having equally spaced phase angles for subsequent gear meshes.  Sequential-phase planetaries have cancelled torques but reenforced radial forces.  The condition for sequential-phase is:\n",
    "\n",
    "*TODO eqn for sequential-phase*\n",
    "\n",
    "##### Counter-Phase\n",
    "\n",
    "*Counter-phase* refers to having opposite phase angles for opposing planets.  Counter-phase planetaries have cancelled torques and cancelled radial forces.  The condition for counter-phase is:\n",
    "\n",
    "*TODO eqn for counter-phase*\n",
    "\n",
    "<div class=\"alert alert-block alert-info\" style=\"box-shadow: 2px 2px 4px 0px rgba(0, 0, 0, .13);\">\n",
    "    <strong>Perfect planetary phasing conditions are not observed in real-world conditions.</strong>\n",
    "    <br><br>\n",
    "    Errors caused by manufacturing, assembly, and operation can cause gear mesh phasing deviations and low frequency modulations that will lead to more vibration frequencies, increased vibrations, and undesireable noise characteristics.  Planetary phasing should be considered during the design-phase.\n",
    "</div>"
   ]
  },
  {
   "cell_type": "code",
   "execution_count": 89,
   "metadata": {},
   "outputs": [],
   "source": [
    "# TODO phasing functions"
   ]
  },
  {
   "cell_type": "markdown",
   "metadata": {},
   "source": [
    "### Helical Gears\n",
    "\n",
    "To extend the planetary design rules to helical gearing, we need to consider the helix angle and the transverse geometric properties.\n",
    "\n",
    "*TODO explain things to consider for helical gears; maybe mention the overturning moments caused by helix angle.*\n",
    "\n",
    "<div class=\"alert alert-block alert-info\" style=\"box-shadow: 2px 2px 4px 0px rgba(0, 0, 0, .13);\">\n",
    "    To learn more about the detailed attributes of helical gears, see our notebook for helical gears.\n",
    "</div>"
   ]
  },
  {
   "cell_type": "markdown",
   "metadata": {},
   "source": [
    "<div class=\"alert alert-block alert-warning\" style=\"box-shadow: 2px 2px 4px 0px rgba(0, 0, 0, .13);\">\n",
    "    <h3>Example | Spur Standard Planetary<a name=\"Standard-Example-1\"></a></h3>\n",
    "    <h4>GIVEN</h4>\n",
    "    <ol>\n",
    "        <li>Target tranmission ratio, with +/- range.</li>\n",
    "        <li>Target ring gear size.</li>\n",
    "        <li>Target planet count.</li>\n",
    "    </ol>\n",
    "    <h4>FIND</h4>Spur standard planetary designs that satisfy the input constraints.\n",
    "    <h4>SOLUTION</h4>See below.\n",
    "</div>"
   ]
  },
  {
   "cell_type": "code",
   "execution_count": 3,
   "metadata": {},
   "outputs": [],
   "source": [
    "# HELPERS\n",
    "# -------\n",
    "def compute_candidate(i_candidate, z1, z3, number_of_planets, spacing):\n",
    "    # compute actual ratio\n",
    "    ratio_base = z3 / z1\n",
    "    ratio_1v = 1 - ratio_base\n",
    "    \n",
    "    # compute reference planet teeth; actual tooth count may vary depending on profile shifts\n",
    "    z2 = (abs(z3) - z1) / 2\n",
    "    \n",
    "    # compute tooth size and center distance\n",
    "    mn = ring_pitch_dia_target / z3\n",
    "    reference_center_distance = mn * (z1 + z2) / 2\n",
    "    \n",
    "    # TODO compute phasing condition\n",
    "    phasing_type = '?'\n",
    "    \n",
    "    return [i_candidate, z1, f'~{z2}', z3, round(ratio_1v, 2), number_of_planets, spacing, phasing_type, round(mn, 3), round(reference_center_distance, 3)]"
   ]
  },
  {
   "cell_type": "code",
   "execution_count": 66,
   "metadata": {
    "scrolled": false,
    "tags": [
     "hide_input"
    ]
   },
   "outputs": [
    {
     "data": {
      "text/html": [
       "<table border=\"1\" class=\"dataframe\">\n",
       "  <thead>\n",
       "    <tr style=\"text-align: right;\">\n",
       "      <th>Description</th>\n",
       "      <th>Symbol</th>\n",
       "      <th>Value</th>\n",
       "      <th>Units</th>\n",
       "    </tr>\n",
       "  </thead>\n",
       "  <tbody>\n",
       "    <tr>\n",
       "      <td>Target ratio</td>\n",
       "      <td>$i_{1v_o}$</td>\n",
       "      <td>4.000</td>\n",
       "      <td>-</td>\n",
       "    </tr>\n",
       "    <tr>\n",
       "      <td>Target ratio deviation</td>\n",
       "      <td>$\\Delta i_{1v_o}$</td>\n",
       "      <td>3.000</td>\n",
       "      <td>%</td>\n",
       "    </tr>\n",
       "    <tr>\n",
       "      <td>Target pitch diameter, ring</td>\n",
       "      <td>$d_{w3_o}$</td>\n",
       "      <td>-104.000</td>\n",
       "      <td>$\\mm$</td>\n",
       "    </tr>\n",
       "    <tr>\n",
       "      <td>Target pitch diameter, sun</td>\n",
       "      <td>$d_{w1_o}$</td>\n",
       "      <td>34.667</td>\n",
       "      <td>$\\mm$</td>\n",
       "    </tr>\n",
       "    <tr>\n",
       "      <td>Target pitch diameter, planets</td>\n",
       "      <td>$d_{w2_o}$</td>\n",
       "      <td>34.667</td>\n",
       "      <td>$\\mm$</td>\n",
       "    </tr>\n",
       "    <tr>\n",
       "      <td>Target pitch diameter, carrier</td>\n",
       "      <td>$d_{wV_o}$</td>\n",
       "      <td>69.333</td>\n",
       "      <td>$\\mm$</td>\n",
       "    </tr>\n",
       "    <tr>\n",
       "      <td>Target reference center distance</td>\n",
       "      <td>$a_{0_o}$</td>\n",
       "      <td>34.667</td>\n",
       "      <td>$\\mm$</td>\n",
       "    </tr>\n",
       "    <tr>\n",
       "      <td>Number of planets, target</td>\n",
       "      <td>$N_o$</td>\n",
       "      <td>4.000</td>\n",
       "      <td>-</td>\n",
       "    </tr>\n",
       "    <tr>\n",
       "      <td>Number of planets, max</td>\n",
       "      <td>$N_\\rm{max}$</td>\n",
       "      <td>5.000</td>\n",
       "      <td>-</td>\n",
       "    </tr>\n",
       "  </tbody>\n",
       "</table>"
      ],
      "text/plain": [
       "<IPython.core.display.HTML object>"
      ]
     },
     "metadata": {},
     "output_type": "display_data"
    }
   ],
   "source": [
    "# INPUTS\n",
    "# ------\n",
    "ratio_1v_target = 4  # omega_sun / omega_carrier (fixed ring)\n",
    "ratio_1v_delta = 0.03  # decimal percentage\n",
    "ring_pitch_dia_target = -104\n",
    "n_planets_target = 4\n",
    "\n",
    "z3_min = -40\n",
    "z3_max = -150\n",
    "\n",
    "# NOTES\n",
    "# -----\n",
    "# Alternatively, we could constrain the tooth size, e.g. normal module, and allow envelope size to vary.\n",
    "\n",
    "# EQUATIONS\n",
    "# ---------\n",
    "# i_1v = 1 - u\n",
    "# ==> u = 1 - i_1v\n",
    "# where u is the base ratio (fixed carrier)\n",
    "\n",
    "# u = z3 / z1\n",
    "# ==> z1 = z3 / u\n",
    "\n",
    "# |z3| = z1 + 2 * z2\n",
    "# ==> z2 = (|z3| - z1) / 2\n",
    "\n",
    "# TARGET RATIOS\n",
    "# -------------\n",
    "ratio_1v_lower = (1 - ratio_1v_delta) * ratio_1v_target\n",
    "ratio_1v_upper = (1 + ratio_1v_delta) * ratio_1v_target\n",
    "base_ratio_target = 1 - ratio_1v_target\n",
    "base_ratio_lower = 1 - ratio_1v_lower\n",
    "base_ratio_upper = 1 - ratio_1v_upper\n",
    "\n",
    "# TARGET DIAMETERS\n",
    "# ----------------\n",
    "sun_pitch_dia_target = ring_pitch_dia_target / base_ratio_target\n",
    "planet_pitch_dia_target = (abs(ring_pitch_dia_target) - sun_pitch_dia_target) / 2\n",
    "carrier_pitch_dia_target = sun_pitch_dia_target + planet_pitch_dia_target\n",
    "center_distance_target = carrier_pitch_dia_target / 2\n",
    "\n",
    "# MAX PLANETS\n",
    "# -----------\n",
    "# l > tip_diameter_planet\n",
    "# where l = 2 * a * sin(pi / N) \n",
    "# where l is the center distance between planets\n",
    "# ==> N = pi / (asin(l / (2 * a)) + 2 * pi\n",
    "\n",
    "tip_diameter_planet = planet_pitch_dia_target  # BE CAREFUL\n",
    "number_of_planets_max = floor(pi / (asin(tip_diameter_planet / (2 * center_distance_target))))\n",
    "number_of_planets = min([n_planets_target, number_of_planets_max])\n",
    "\n",
    "if n_planets_target > number_of_planets_max:\n",
    "    print(f\"\\x1b[31mWARNING: The number of planets is too high, using {number_of_planets} instead.\\x1b[0m\")  # red color formatting\n",
    "\n",
    "# TOOTH COUNTS\n",
    "# ------------\n",
    "# (z1 - z3) / N = k, where k is an integer\n",
    "# Express z1 as a function of z3 and target ratio:\n",
    "#   z1 = z3 / (1 - i_1v)\n",
    "# Then rewrite equation as:\n",
    "#   (z3 / (1 - i_1v) - z3) / N = k\n",
    "# Solve z3:\n",
    "#   z3 = k * N * (1 / i_1v - 1)\n",
    "#   z3 = k * increment\n",
    "\n",
    "# initialize\n",
    "candidates = []\n",
    "i_candidate = 1\n",
    "z3_range = range(z3_min, z3_max - 1, -1)\n",
    "\n",
    "# compute designs within constraints\n",
    "for z3 in z3_range:\n",
    "    # range of z1 to satisfy ratio constraints\n",
    "    z1_high = z3 / (1 - ratio_1v_lower)  # higher z1 for lower ratio\n",
    "    z1_low = z3 / (1 - ratio_1v_upper)  # lower z1 for higher ratio\n",
    "    z1_values = list(range(ceil(z1_low), floor(z1_high) + 1))\n",
    "    \n",
    "    for z1 in z1_values:\n",
    "        # determine planet spacing\n",
    "        k = (z1 - z3) / number_of_planets\n",
    "        is_equally_spaced = isclose(k, round(k))\n",
    "        is_diametrally_opposed = isclose(k % 1, 0.5)\n",
    "\n",
    "        if is_equally_spaced:\n",
    "            spacing = 'E'\n",
    "        elif is_diametrally_opposed:\n",
    "            spacing = 'X'\n",
    "        else:\n",
    "            continue\n",
    "        \n",
    "        candidates.append(compute_candidate(i_candidate, z1, z3, number_of_planets, spacing))\n",
    "        i_candidate += 1\n",
    "\n",
    "# DISPLAY TARGETS\n",
    "# ---------------\n",
    "cols = ['Description', 'Symbol', 'Value', 'Units']\n",
    "data = [\n",
    "    ['Target ratio', '$i_{1v_o}$', ratio_1v_target, '-'],\n",
    "    ['Target ratio deviation', '$\\Delta i_{1v_o}$', 100 * ratio_1v_delta, '%'],\n",
    "    ['Target pitch diameter, ring', '$d_{w3_o}$', ring_pitch_dia_target, '$\\mm$'],\n",
    "    ['Target pitch diameter, sun', '$d_{w1_o}$', round(sun_pitch_dia_target, 3), '$\\mm$'],\n",
    "    ['Target pitch diameter, planets', '$d_{w2_o}$', round(planet_pitch_dia_target, 3), '$\\mm$'],\n",
    "    ['Target pitch diameter, carrier', '$d_{wV_o}$', round(carrier_pitch_dia_target, 3), '$\\mm$'],\n",
    "    ['Target reference center distance', '$a_{0_o}$', round(center_distance_target, 3), '$\\mm$'],\n",
    "    ['Number of planets, target', '$N_o$', n_planets_target, '-'],\n",
    "    ['Number of planets, max', '$N_\\rm{max}$', number_of_planets_max, '-'],\n",
    "]\n",
    "df = pd.DataFrame(data=data, columns=cols)\n",
    "display(HTML(df.to_html(index=False)))\n",
    "\n",
    "if not candidates:\n",
    "    print(f\"\\x1b[31mNo candidates found in the design space.\\x1b[0m\")  # red color formatting"
   ]
  },
  {
   "cell_type": "code",
   "execution_count": 65,
   "metadata": {},
   "outputs": [
    {
     "data": {
      "application/vnd.jupyter.widget-view+json": {
       "model_id": "aa2d8102c798464593ba779b651d41b3",
       "version_major": 2,
       "version_minor": 0
      },
      "text/plain": [
       "QgridWidget(grid_options={'fullWidthRows': True, 'syncColumnCellResize': True, 'forceFitColumns': True, 'defau…"
      ]
     },
     "metadata": {},
     "output_type": "display_data"
    }
   ],
   "source": [
    "# DISPLAY CANDIDATES\n",
    "# ------------------\n",
    "cols_html = ['#', '$z_1$', '$z_2$', '$z_3$', '$i_{1V}$', 'N', '$\\oplus$', '$\\phi$', '$m_n$', '$a_0$']\n",
    "cols_qgrid = ['#', 'z1', 'z2', 'z3', 'ratio', 'N', 'space', 'phase', 'mn', 'CD']\n",
    "\n",
    "# html approach:\n",
    "# df = pd.DataFrame(data=candidates, columns=cols)\n",
    "# display(HTML(df.to_html(index=False)))\n",
    "\n",
    "# qgrid approach:\n",
    "df = pd.DataFrame(data=candidates, columns=cols_qgrid)\n",
    "df = df.set_index('#')\n",
    "qgridwidget = qgrid.show_grid(df)\n",
    "qgridwidget"
   ]
  },
  {
   "cell_type": "code",
   "execution_count": 60,
   "metadata": {},
   "outputs": [
    {
     "name": "stdout",
     "output_type": "stream",
     "text": [
      "FOO\n"
     ]
    },
    {
     "data": {
      "application/vnd.jupyter.widget-view+json": {
       "model_id": "ce1b76eb64054a599bfce536ac8c1408",
       "version_major": 2,
       "version_minor": 0
      },
      "text/plain": [
       "QgridWidget(grid_options={'fullWidthRows': True, 'syncColumnCellResize': True, 'forceFitColumns': True, 'defau…"
      ]
     },
     "metadata": {},
     "output_type": "display_data"
    }
   ],
   "source": [
    "# PLOT CANDIDATE\n",
    "# --------------\n",
    "candidate = 6\n",
    "\n",
    "# define data\n",
    "df_candidate = pd.DataFrame(data=[candidates[candidate-1]], columns=cols_qgrid)\n",
    "df_candidate = df_candidate.set_index('#')\n",
    "\n",
    "# define table\n",
    "grid_options = {'minVisibleRows': 1, 'maxVisibleRows': 1, 'sortable': False, 'filterable': False}\n",
    "qgridwidget = qgrid.show_grid(df_candidate, grid_options=grid_options)\n",
    "\n",
    "# TODO plot pitch circles and dots for teeth; dropdown to select design candidate?\n",
    "print('FOO')\n",
    "fig = plt.figure(figsize=FIGSIZE)\n",
    "ax = fig.add_subplot(1, 1, 1)\n",
    "\n",
    "# ring pitch diameter\n",
    "x, y = planetary.circle_curve(radius_base)\n",
    "ax.plot(x, y, '--')\n",
    "\n",
    "# sun pitch diameter\n",
    "x, y = planetary.circle_curve(radius_base)\n",
    "ax.plot(x, y, '-', linewidth=2.5)\n",
    "\n",
    "# TODO planet pitch diameters\n",
    "\n",
    "# plot format\n",
    "ax.set_aspect('equal')\n",
    "plt.ylim(-r_max, r_max)\n",
    "plt.xlim(-r_max, r_max)\n",
    "plt.xlabel('x')\n",
    "plt.ylabel('y')\n",
    "# FIXME legend\n",
    "# plt.legend(['base circle', 'involute curve'])\n",
    "plt.grid()\n",
    "plt.show()\n",
    "\n",
    "# display table\n",
    "qgridwidget"
   ]
  },
  {
   "cell_type": "markdown",
   "metadata": {},
   "source": [
    "<div class=\"alert alert-block alert-warning\" style=\"box-shadow: 2px 2px 4px 0px rgba(0, 0, 0, .13);\">\n",
    "    <h3>Example | Helical Standard Planetary<a name=\"Standard-Example-2\"></a></h3>\n",
    "    <h4>GIVEN</h4>\n",
    "    <ol>\n",
    "        <li>Target tranmission ratio, with +/- range.</li>\n",
    "        <li>Target ring gear size.</li>\n",
    "        <li>Target planet count.</li>\n",
    "    </ol>\n",
    "    <h4>FIND</h4>Helical standard planetary designs that satisfy the input constraints.\n",
    "    <h4>SOLUTION</h4>See below.\n",
    "</div>"
   ]
  },
  {
   "cell_type": "code",
   "execution_count": 87,
   "metadata": {},
   "outputs": [],
   "source": [
    "# TODO solution for helical standard planetary"
   ]
  },
  {
   "cell_type": "markdown",
   "metadata": {},
   "source": [
    "## Compound Planetary\n",
    "\n",
    "This section reviews the design layout of compound planetary geartrains with a sun, ring, and planet shafts each with two planet gears.  Reference the image below.  Working examples are provided for spur and helical planetary geartrains.\n",
    "\n",
    "*TODO compound planetary image*\n",
    "\n",
    "<img src=\"./img/drivetrainhub_compound_planetary_helical_gears.png\" alt=\"Compound planetary geartrain\" style=\"max-height: 350px; max-width: 100%\"/>\n",
    "<p style=\"text-align: center; font-weight: bold;\">Compound planetary modeled with <a href=\"https://drivetrainhub.com/gears\" style=\"text-decoration: none;\">Gears App</a></p>"
   ]
  },
  {
   "cell_type": "markdown",
   "metadata": {},
   "source": [
    "<div class=\"alert alert-block alert-warning\" style=\"box-shadow: 2px 2px 4px 0px rgba(0, 0, 0, .13);\">\n",
    "    <h3>Example | Spur Compound Planetary<a name=\"Compound-Example-1\"></a></h3>\n",
    "    <h4>GIVEN</h4>\n",
    "    <ol>\n",
    "        <li>Target tranmission ratio, with +/- range.</li>\n",
    "        <li>Target ring gear size.</li>\n",
    "        <li>Target planet count.</li>\n",
    "    </ol>\n",
    "    <h4>FIND</h4>Spur compound planetary designs that satisfy the input constraints.\n",
    "    <h4>SOLUTION</h4>See below.\n",
    "</div>"
   ]
  },
  {
   "cell_type": "code",
   "execution_count": 88,
   "metadata": {},
   "outputs": [],
   "source": [
    "# TODO solution for spur compound planetary"
   ]
  },
  {
   "cell_type": "markdown",
   "metadata": {},
   "source": [
    "<div class=\"alert alert-block alert-warning\" style=\"box-shadow: 2px 2px 4px 0px rgba(0, 0, 0, .13);\">\n",
    "    <h3>Example | Helical Compound Planetary<a name=\"Compound-Example-2\"></a></h3>\n",
    "    <h4>GIVEN</h4>\n",
    "    <ol>\n",
    "        <li>Target tranmission ratio, with +/- range.</li>\n",
    "        <li>Target ring gear size.</li>\n",
    "        <li>Target planet count.</li>\n",
    "    </ol>\n",
    "    <h4>FIND</h4>Helical compound planetary designs that satisfy the input constraints.\n",
    "    <h4>SOLUTION</h4>See below.\n",
    "</div>"
   ]
  },
  {
   "cell_type": "code",
   "execution_count": 65,
   "metadata": {},
   "outputs": [],
   "source": [
    "# TODO solution for helical compound planetary"
   ]
  },
  {
   "cell_type": "markdown",
   "metadata": {},
   "source": [
    "---\n",
    "<div class=\"alert alert-block alert-info\" style=\"box-shadow: 2px 2px 4px 0px rgba(0, 0, 0, .13);\">\n",
    "    <h3>Model Gears</h3><br>\n",
    "    <a href=\"https://drivetrainhub.com/gears\" style=\"font-weight: bold\">Gears App</a> software is used to accurately model, analyze, and build planetary geartrains entirely in your <u>web browser</u>.\n",
    "</div>"
   ]
  },
  {
   "cell_type": "markdown",
   "metadata": {},
   "source": [
    "<div class=\"alert alert-block alert-info\" style=\"box-shadow: 2px 2px 4px 0px rgba(0, 0, 0, .13);\">\n",
    "    <h3>Learn More</h3><br>\n",
    "    <a href=\"https://drivetrainhub.com/notebooks/\" style=\"font-weight: bold\">Notebook Series</a> is free to learn and contribute knowledge about gears, such as geometry, manufacturing, strength, and more.\n",
    "</div>"
   ]
  },
  {
   "cell_type": "markdown",
   "metadata": {},
   "source": [
    "<div class=\"alert alert-block alert-info\" style=\"box-shadow: 2px 2px 4px 0px rgba(0, 0, 0, .13);\">\n",
    "    <h3>Edit Notebook</h3><br>\n",
    "    <a href=\"https://github.com/drivetrainhub/notebooks/\" style=\"font-weight: bold\">GitHub repos</a> are used to publicly host our notebooks, allowing anyone to view and propose edits.\n",
    "</div>"
   ]
  },
  {
   "cell_type": "markdown",
   "metadata": {},
   "source": [
    "## References\n",
    "\n",
    "1. [Gears and Gear Drives, 1st Edition. Damir Jelaska](https://www.wiley.com/en-us/Gears+and+Gear+Drives-p-9781119941309)\n",
    "1. Handbook of Practical Gear Design and Manufacture, 1st Edition. Darle W. Dudley"
   ]
  }
 ],
 "metadata": {
  "kernelspec": {
   "display_name": "Python 3",
   "language": "python",
   "name": "python3"
  },
  "language_info": {
   "codemirror_mode": {
    "name": "ipython",
    "version": 3
   },
   "file_extension": ".py",
   "mimetype": "text/x-python",
   "name": "python",
   "nbconvert_exporter": "python",
   "pygments_lexer": "ipython3",
   "version": "3.7.2"
  },
  "pycharm": {
   "stem_cell": {
    "cell_type": "raw",
    "metadata": {
     "collapsed": false
    },
    "source": []
   }
  }
 },
 "nbformat": 4,
 "nbformat_minor": 2
}
