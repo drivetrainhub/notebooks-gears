{
 "cells": [
  {
   "cell_type": "markdown",
   "metadata": {},
   "source": [
    "[<img align=\"left\" width=\"140px\" src=\"https://storage.googleapis.com/static.drivetrainhub.com/img/dh_logo_text_217x80.png\"/>](https://www.drivetrainhub.com)\n",
    "\n",
    "<div align=\"right\">© 2019 Drivetrain Hub LLC</div>"
   ]
  },
  {
   "cell_type": "markdown",
   "metadata": {},
   "source": [
    "# Geometry / Spur Gears\n",
    "---\n",
    "\n",
    "**Authors**:  [Tugan Eritenel](https://github.com/tugan1) \n",
    "\n",
    "**Description**:  Geometry of spur gears, given constraints on ratio, center distance, and clearances."
   ]
  },
  {
   "cell_type": "markdown",
   "metadata": {},
   "source": [
    "## Table of Contents\n",
    "\n",
    "1. [Introduction](#Introduction)\n",
    "    1. [Definitions and Gear Parameters](#Definitions-and-Gear-Parameters)\n",
    "    2. [Profile Shift](#Profile-Shift)\n",
    "    3. [Addendum Modification](#Addendum-Modification)\n",
    "2. [Geometric Design Process](#Geometric-Design-Process)\n",
    "    1. [Choosing Number of Teeth](#Choosing-Number-of-Teeth)\n",
    "    2. [Calculate Profile Shift](#Calculate-Profile-Shift)\n",
    "    3. [Calculate Addendum Modification](#Calculate-Addendum-Modification)\n",
    "    4. [Checks](#Checks)\n",
    "3. [References](#References)"
   ]
  },
  {
   "cell_type": "markdown",
   "metadata": {},
   "source": [
    "# Introduction\n",
    "This chapter is on designing the geometry of spur gear pairs.  Here, the module and the center distance is specified. The gear pair is designed to achieve a desired gear ratio, while the gear geometry is within limits of certain criteria."
   ]
  },
  {
   "cell_type": "markdown",
   "metadata": {
    "tags": [
     "hide_cell"
    ]
   },
   "source": [
    "Notebook imports and settings"
   ]
  },
  {
   "cell_type": "code",
   "execution_count": null,
   "metadata": {
    "tags": [
     "hide_cell"
    ]
   },
   "outputs": [],
   "source": [
    "import ipywidgets as widgets\n",
    "from IPython import display\n",
    "from IPython.core.display import HTML\n",
    "import pandas as pd\n",
    "from pprint import pprint\n",
    "import math"
   ]
  },
  {
   "cell_type": "markdown",
   "metadata": {},
   "source": [
    "Involute function, pressure angle, and tooth thickness functions."
   ]
  },
  {
   "cell_type": "code",
   "execution_count": null,

   "metadata": {},
   "outputs": [],
   "source": [
    "def inv(a):\n",
    "    return math.tan(a) - a\n",
    "\n",
    "def alpha_at_given_d(d,d_b):\n",
    "    return math.acos(d_b/d)\n",
    "\n",
    "def thickness_at_given_d(d,d_p,d_b,alpha,m,x):\n",
    "    S_p = math.pi/2*m + 2*m*x*math.tan(alpha)\n",
    "    alpha_d = alpha_at_given_d(d,d_b)\n",
    "    S = d*(S_p/d_p+inv(alpha)-inv(alpha_d))\n",
    "    return S"
   ]
  },
  {
   "cell_type": "markdown",
   "metadata": {},
   "source": [
    "## Definitions and Gear Parameters \n",
    "The table below shows the definitions of basic gear geometry paramaters, and equations needed to calculate them.\n",
    "<table>\n",
    "    <thead>\n",
    "        <td>Parameter</td><td style=\"width:200px\">Expression</td><td>Units</td>\n",
    "    </thead>\n",
    "    <tr>\n",
    "        <td>Involute function</td><td>$\\rm{inv}\\left({\\theta}\\right) = \\tan\\theta - \\theta $</td><td>rad</td>\n",
    "    </tr>\n",
    "    <tr>\n",
    "        <td>Number of gear teeth</td><td>$z$</td><td>None</td>\n",
    "    </tr>\n",
    "    <tr>\n",
    "        <td>Normal module</td><td>$m$</td><td>mm</td>\n",
    "    </tr>\n",
    "    <tr>\n",
    "        <td>Generating pressure angle</td><td>$\\alpha$</td><td>deg</td>\n",
    "    </tr>\n",
    "    <tr>\n",
    "        <td>Profile shift</td><td>$x$</td><td>$m$</td>\n",
    "    </tr>\n",
    "    <tr>\n",
    "        <td>Addendum modification</td><td>$y$</td><td>$m$</td>\n",
    "    </tr>\n",
    "    <tr>\n",
    "        <td>Pitch diameter</td><td>$d_p = mz$</td><td>mm</td>\n",
    "    </tr>\n",
    "    <tr>\n",
    "        <td>Base diameter</td><td>$d_b = d_p \\cos \\alpha$</td><td>mm</td>\n",
    "    </tr>\n",
    "    <tr>\n",
    "        <td>Tip diameter</td><td>$d_t= d_p + 2m\\left(1+x-y\\right)$</td><td>mm</td>\n",
    "    </tr>\n",
    "    <tr>\n",
    "        <td>Root diameter</td><td>$d_r= d_p + 2m\\left(-1.25+x\\right)$</td><td>mm</td>\n",
    "    </tr>\n",
    "    <tr>\n",
    "        <td>Base pitch</td><td>$B_p= m\\pi\\cos\\alpha$</td><td>mm</td>\n",
    "    </tr>\n",
    "</table>\n",
    "\n",
    "In a gear pair, parameters that belong to the first gear are indicated with subscript 1, and parameters that belong to the second gear are indicated with subscript 2.  The gear with the lower number of teeth is referred to as the \"pinion\", and the gear with the higher number of teeth is referred to as the \"wheel\". The term \"working\" refers to the parameters when the gear pair is operating at a given center distance.\n",
    "\n",
    "<table>\n",
    "    <thead>\n",
    "        <td>Parameter</td><td style=\"width:200px\">Expression</td><td>Units</td>\n",
    "    </thead>\n",
    "    <tr>\n",
    "        <td>Standard center distance</td><td>$a_0 = m\\frac{z_1 + z_2}{2}$</td><td>mm</td>\n",
    "    </tr>\n",
    "    <tr>\n",
    "        <td>Operating center distance</td><td>$a$</td><td>mm</td>\n",
    "    </tr>\n",
    "    <tr>\n",
    "        <td>Working pressure angle</td><td>$\\alpha_w = \\cos^{-1}\\left( \\frac{a_0}{a} \\cos\\alpha \\right) $</td><td>mm</td>\n",
    "    </tr>\n",
    "    <tr>\n",
    "        <td>Working pitch diameter</td><td>$d_w = \\frac{d_b}{\\cos\\alpha_w}$</td><td>mm</td>\n",
    "    </tr>\n",
    "    <tr>\n",
    "        <td>Contact ratio</td><td> $R = \\frac{\\frac{\\sqrt{d^2_{t,1} -d^2_{r,1}} + \\sqrt{d^2_{t,2} -d^2_{r,2}}}{4} -a\\sin\\alpha_w} {B_p}$ </td><td>None</td>\n",
    "    </tr>\n",
    "    \n",
    "</table>\n",
    "\n",
    "Parameters and expressions on tooth thickness, backlash, and tip-to-root clearances are given in table below.\n",
    "<table>\n",
    "    <thead>\n",
    "        <td>Parameter</td><td style=\"width:250px\">Expression</td><td>Units</td>\n",
    "    </thead>\n",
    "    <tr>\n",
    "        <td>Circular tooth thickness at pitch diameter</td><td> $S_p = \\frac{m}{2}\\pi + 2mx\\tan\\alpha$</td><td>mm</td>\n",
    "    </tr>\n",
    "    <tr>\n",
    "        <td>Pressure angle at a given diameter, $d$</td><td> $\\alpha(d) = \\cos^{-1}\\left(\\frac{d_b}{d} \\right)$</td><td>mm</td>\n",
    "    </tr>\n",
    "    <tr>\n",
    "        <td>Circular tooth thickness at a given diameter, $d$</td><td> $S(d) = d\\left( \\frac{S_p}{d_p} + \\rm{inv}\\alpha - \\rm{inv}\\alpha_d \\right)$</td><td>mm</td>\n",
    "    </tr>\n",
    "    <tr>\n",
    "        <td>Circular backlash</td><td> $B_c = \\frac{B_p}{\\cos\\alpha_w} - S\\left(d_{w,1}\\right) -  S\\left(d_{w,2}\\right)$</td><td>mm</td>\n",
    "    </tr>\n",
    "    <tr>\n",
    "        <td>Linear backlash</td><td> $B_l = B_c \\cos\\alpha_w$</td><td>mm</td>\n",
    "    </tr>\n",
    "    <tr>\n",
    "        <td>Pinion tip to gear root clearance</td><td> $c_1 =a - a_0 - m\\left(x_1+x_2 - y_1 \\right)$</td><td>mm</td>\n",
    "    </tr>\n",
    "    <tr>\n",
    "        <td>Gear tip to pinion root clearance</td><td> $c_2 =a - a_0 - m\\left(x_1+x_2 - y_2 \\right)$</td><td>mm</td>\n",
    "    </tr>\n",
    "</table>"
   ]
  },
  {
   "cell_type": "markdown",
   "metadata": {},
   "source": [
    "### Profile Shift\n",
    "Hob can be pushed or pulled while gears are manufactured.  This affects the shape of the gear tooth generated.  A positive profile shift indicates that the hob is pulled away from the gear center.\n",
    "#### Advantages of Positive Profile Shift\n",
    "<ul>\n",
    "    <li>Reduces or eliminates undercut</li>\n",
    "    <li>Reduces root stress by increasing tooth thickness</li>\n",
    "    <li>Improves radius of curvature at contact</li>\n",
    "</ul>\n",
    "\n",
    "#### Disadvantages of Positive Profile Shift\n",
    "<ul>\n",
    "    <li>Reduces tooth tip thickness, can lead to peaking</li>\n",
    "    <li>Can reduce contact ratio</li>\n",
    "</ul>\n",
    "    "
   ]
  },
  {
   "cell_type": "markdown",
   "metadata": {},
   "source": [
    "### Undercut\n",
    "Involute profile is not defined below the base circe.  Undercut occurs when tool tip corner does not cut the transition point between the root fillet and the involute profile.  Undercut which increases stress concentration.  Undercut is generally to be avoided or reduced if possible.  Gears with low number of teeth are more prone to undercut.  \n",
    "\n",
    "The minimum number of gear teeth without undercut is given by,\n",
    "\n",
    "$$ z_{min} = \\frac{2}{\\sin^2\\alpha}$$\n",
    "\n",
    "where $\\alpha$ is the pressure angle of the hob.  Given the number of teeth, the minimum profile shift required to avoid undercut is given by,\n",
    "\n",
    "$$x=\\frac{z_{min} - z}{z_{min}}$$"
   ]
  },
  {
   "cell_type": "markdown",
   "metadata": {},
   "source": [
    "### Addendum Modification\n",
    "To avoid peaking and/or tip-to-root interference, tooth addendum is reduced. No actual tooth are cut off after the gears have been made, but the blank diameter itself is reduced before manufacturing. \n",
    "#### Peaking\n",
    "Peaking occurs when the gear tooth tip thickness reaches zero due to positive profile shift.  Generally it is recommended that the tip thickness is greater than $0.25 m$, where $m$ is the normal module.\n",
    "#### Tip-to-Root Interference\n",
    "Tip-to-root interference occurs when the gear teeth are too long and interfere with the root of the mating gear due to positive profile shift.  Generally, it is recommended that tip-to-root clearance is equal to or greater than $0.25m$.  "
   ]
  },
  {
   "cell_type": "markdown",
   "metadata": {},
   "source": [
    "# Geometric Design Process\n",
    "The design process is explained by means of an example.<br>\n",
    "Requirements are as follows:"
   ]
  },
  {
   "cell_type": "code",
   "execution_count": null,
   "metadata": {
    "tags": [
     "hide_input"
    ]
   },
   "outputs": [
    {
     "data": {
      "application/vnd.jupyter.widget-view+json": {
       "model_id": "da13b4c7b15b480caf5523f526f59588",
       "version_major": 2,
       "version_minor": 0
      },
      "text/plain": [
       "HBox(children=(Output(),))"
      ]
     },
     "metadata": {},
     "output_type": "display_data"
    }
   ],
   "source": [
    "I = pd.Index([\"Module\",\"Working center distance\",\"Standard pressure angle\",\"Ratio\",\"Ratio tolerance\",\"Backlash\",\"Tip-To-Root Clearance\"],name=\"rows\")\n",
    "C = pd.Index([\"Common\",\"Units\"],name=\"columns\")\n",
    "df_requirements = pd.DataFrame(data=None,index=I,columns=C)\n",
    "df_requirements[\"Common\"][\"Module\"]=2.5\n",
    "df_requirements[\"Units\"][\"Module\"]=\"mm\"\n",
    "df_requirements[\"Common\"][\"Working center distance\"]=122\n",
    "df_requirements[\"Units\"][\"Working center distance\"]=\"mm\"\n",
    "df_requirements[\"Common\"][\"Standard pressure angle\"]=20\n",
    "df_requirements[\"Units\"][\"Standard pressure angle\"]=\"deg\"\n",
    "df_requirements[\"Common\"][\"Ratio\"]=1.063829787\n",
    "df_requirements[\"Units\"][\"Ratio\"]=\"\"\n",
    "df_requirements[\"Common\"][\"Ratio tolerance\"]=0.0001\n",
    "df_requirements[\"Units\"][\"Ratio tolerance\"]=\"\"\n",
    "df_requirements[\"Common\"][\"Backlash\"]=0.1\n",
    "df_requirements[\"Units\"][\"Backlash\"]=\"mm\"\n",
    "df_requirements[\"Common\"][\"Tip-To-Root Clearance\"]=0.25\n",
    "df_requirements[\"Units\"][\"Tip-To-Root Clearance\"]=\"module\"\n",
    "\n",
    "widget= widgets.Output()\n",
    "with widget:\n",
    "    display.display(df_requirements)\n",
    "hbox = widgets.HBox([widget])\n",
    "hbox"
   ]
  },
  {
   "cell_type": "code",
   "execution_count": null,
   "metadata": {},
   "outputs": [],
   "source": [
    "alpha=df_requirements[\"Common\"][\"Standard pressure angle\"]/180*math.pi\n",
    "i_required = df_requirements[\"Common\"][\"Ratio\"]\n",
    "i_tol = df_requirements[\"Common\"][\"Ratio tolerance\"]\n",
    "m = df_requirements[\"Common\"][\"Module\"]\n",
    "a = df_requirements[\"Common\"][\"Working center distance\"]\n",
    "B_req = df_requirements[\"Common\"][\"Backlash\"]"
   ]
  },
  {
   "cell_type": "markdown",
   "metadata": {},
   "source": [
    "## Choosing Number of Teeth\n",
    "In this notebook, the aim of design is to minimize the size of the gears. To that end, the lowest number of teeth possible within limits should be chosen.  For a first design iteration, the minimum acceptable number of teeth is chosen to avoid undercut without profile shift, given by $z_{min} = \\frac{2}{\\sin^2\\alpha}$.  The number of teeth can be reduced by one or two in the following design iterations, if profile shift eliminates undercut.\n",
    "\n",
    "The selected number of teeth should also satisfy the required gear ratio within a given tolerance.  Since gear ratio is defined by $i=\\frac{z_2}{z_1}$, rearranging gives $z_2=i z_1$.  Number of teeth on the wheel is found using the minimum number of teeth for the pinion.  If the actual gear ratio is not within tolerance, the number of teeth on the pinion is incremented, and the process is repeated until the actual gear ratio is within tolerance.  The following code automates this process.  "
   ]
  },
  {
   "cell_type": "code",
   "execution_count": null,
   "metadata": {},
   "outputs": [],
   "source": [
    "z_1 = 2/(math.sin(alpha)**2)\n",
    "z_1 = int(round(z_1))\n",
    "z_2 = int(round(z_1*i_required))\n",
    "print(z_2)\n",
    "i = z_2/z_1\n",
    "iteration_count=0\n",
    "max_iter = 400\n",
    "while abs(i - i_required)>i_tol:\n",
    "    z_1=z_1+1\n",
    "    z_2 = int(round(z_1*i_required))\n",
    "    i = z_2/z_1\n",
    "    iteration_count=iteration_count+1\n",
    "    if iteration_count>max_iter:\n",
    "        print(\"ERROR: Iteration count of \" +str(200) + \" exceeded, increase ratio tolerance.\")\n",
    "        break\n",
    "\n",
    "display.display(HTML('<div class=\"alert alert-block alert-info\">Pinion number of teeth, $z_1$ = ' + str(z_1) + '</div>'))\n",
    "display.display(HTML('<div class=\"alert alert-block alert-info\">Wheel number of teeth, $z_2$ = ' + str(z_2) + '</div>'))\n",
    "display.display(HTML('<div class=\"alert alert-block alert-info\">Actual gear ratio, $i$ = ' + str(round(i,3)) + '</div>'))\n",
    "display.display(HTML('<div class=\"alert alert-block alert-info\">Required gear ratio, $i_{\\\\rm{required}}$ = ' + str(round(i_required,3)) + '</div>'))"
   ]
  },
  {
   "cell_type": "markdown",
   "metadata": {},
   "source": [
    "## Calculate Profile Shift\n",
    "Once the number of teeth is known, the the standard center distance is calculated by $a = m\\frac{z_1+z_2}{2}$<br>\n",
    "Since the operating center distance is specified as a requirement, the working pressure angle is found using $\\alpha_w = \\cos^{-1}\\left(\\frac{a_0}{a\\cos\\alpha}\\right)$"
   ]
  },
  {
   "cell_type": "code",
   "execution_count": null,
   "metadata": {},
   "outputs": [],
   "source": [
    "a_0 = m*(z_1+z_2)/2\n",
    "alpha_w = math.acos(a_0/a*math.cos(alpha))\n",
    "display.display(HTML('<div class=\"alert alert-block alert-info\">Standard center distance, $a_0$ = ' + str(a_0) + '</div>'))\n",
    "display.display(HTML('<div class=\"alert alert-block alert-info\"> Working pressure angle, $\\\\alpha_w$ =' + str(round(alpha_w*180/math.pi,3)) + ' deg </div>'))"
   ]
  },
  {
   "cell_type": "markdown",
   "metadata": {},
   "source": [
    "Usually, the standard center distance does not exactly the required center distance, which may be dictated by other design restrictions such as packaging or manufacturing.  Generally the gear tooth numbers are chosen such that the operating center distance is greater than the standard center distance; this is called extended center distance. If the gears operate at extended center distance without profile shift, undesirable large backash will result and the contact ratio may be too low. For these reasons, profile shift is applied such that the only source of backlash is the thinning of the hob.  Whether or not the centers are extended, any undercut on the pinion may be removed by moving the profile shift to the gear. <br>\n",
    "The total profile shift needed is found by,\n",
    "$$x_1 + x_2 = \\frac{\\left(z_1+z_2\\right) \\left(\\rm{inv}\\alpha_w -\\rm{inv}\\alpha\\right)}{2\\tan\\alpha}$$\n"
   ]
  },
  {
   "cell_type": "code",
   "execution_count": null,
   "metadata": {},
   "outputs": [],
   "source": [
    "x_total = (z_1 + z_2)*(inv(alpha_w) - inv(alpha))/2/math.tan(alpha) "
   ]
  },
  {
   "cell_type": "markdown",
   "metadata": {},
   "source": [
    "The equation above results in gears with zero backlash excluding what is built into the hob.  If a specified curcular backlash is required, the total profile shift can be updated by, \n",
    "$$x_{mod} = -\\frac{B_{c,req}}{2 m \\tan\\alpha} \\frac{\\cos\\alpha_w}{\\cos\\alpha}$$\n",
    "which modifies the total profile shift by,\n",
    "$$ \\left(x_1 + x_2 \\right)_{\\rm{new}}= x_1+x_2 + x_{mod}$$"
   ]
  },
  {
   "cell_type": "code",
   "execution_count": null,
   "metadata": {},
   "outputs": [],
   "source": [
    "x_mod = -B_req/(2*m*math.tan(alpha))*math.cos(alpha_w)/math.cos(alpha)\n",
    "display.display(HTML('<div class=\"alert alert-block alert-info\"> Reduction in profile shift to obtain the required backlash, $x_{mod}$ = ' + str(round(x_mod,3)) + '</div>'))"
   ]
  },
  {
   "cell_type": "markdown",
   "metadata": {},
   "source": [
    "### Distributing the total profile shift\n",
    "The total profile shift needed for the gears to operate at the required center distance can be distributed in any way between the pinion and the gear.  However, a few empirical equations help improve the design. <br>\n",
    "For reduced sliding velocity, \n",
    "$$x_1 \\approx \\frac{x_1+x_2}{i+1}+\\frac{i-1}{i+1+0.4 z_2}$$\n",
    "For equal root stress,\n",
    "$$x_1 \\approx \\frac{x_1+x_2}{i+1}+\\frac{1}{2}\\left(\\frac{i-1}{i+1}\\right)$$\n",
    "For equal contact pressure,\n",
    "$$x_1 \\approx \\frac{x_1+x_2}{i+1}\\frac{z_1+12}{z_1+2} + \\frac{8}{z_1+2}$$\n",
    "Using the formula for equal root stress, "
   ]
  },
  {
   "cell_type": "code",
   "execution_count": null,
   "metadata": {},
   "outputs": [],
   "source": [
    "x_total = x_total + x_mod\n",
    "display.display(HTML('<div class=\"alert alert-block alert-info\"> Total profile shift, $x_1 + x_2$ = ' + str(round(x_total,3)) + '</div>'))\n",
    "x_1 = x_total / (i + 1) + 0.5 * (i - 1) / (i + 1)\n",
    "x_2 = x_total - x_1\n",
    "\n",
    "display.display(HTML('<div class=\"alert alert-block alert-info\"> Pinion profile shift, $x_1$ = ' + str(round(x_1,3)) + '</div>'))\n",
    "display.display(HTML('<div class=\"alert alert-block alert-info\"> Wheel profile shift, $x_2$ = ' + str(round(x_2,3)) + '</div>'))"
   ]
  },
  {
   "cell_type": "markdown",
   "metadata": {},
   "source": [
    "## Calculate Addendum Modification\n",
    "The tip-to-root clearance is found using the equation, for the pinion and gear respectively,\n",
    "\n",
    "$$c_1 =a - a_0 - m\\left(x_1+x_2 - y_1 \\right)$$\n",
    "$$c_2 =a - a_0 - m\\left(x_1+x_2 - y_2\\right)$$\n",
    "\n",
    "Find required addendum modification, if needed, so that <b>tip-to-root clearance</b> is at least $0.25m$, using,"
   ]
  },
  {
   "cell_type": "code",
   "execution_count": null,
   "metadata": {},
   "outputs": [],
   "source": [
    "c_req = 0.25\n",
    "y = c_req + x_total - (a - a_0) / m\n",
    "y_1 = y\n",
    "y_2 = y\n",
    "\n",
    "if y > 0:\n",
    "    display.display(HTML('<div class=\"alert alert-block alert-info\">Addendum modification, y = ' + str(round(y,3)) + ' is applied<br>This is a reduction in addendum</div>'))\n",
    "elif y <= 0:\n",
    "    display.display(HTML('<div class=\"alert alert-block alert-info\">Addendum modification, y = ' + str(round(y,3)) + ' is applied<br>This is an increase in addendum</div>'))    "
   ]
  },
  {
   "cell_type": "markdown",
   "metadata": {},
   "source": [
    "## Checks\n",
    "This section lists parameters that needs to be checked to make sure the outputs of the design are within limits.  If a parameter does not satisfy the requirements, then the design needs to be updated.    "
   ]
  },
  {
   "cell_type": "markdown",
   "metadata": {},
   "source": [
    "### CHECK: Undercut in pinion and wheel\n",
    "After profile shift is applied, check for undercut pinion and wheel.  Undercut occurs if,\n",
    "\n",
    "$$x_1 < \\frac{z_{min}-z_1}{z_{min}} \\quad \\text{where } z_{min} = \\frac{2}{\\sin^2\\alpha}$$"
   ]
  },
  {
   "cell_type": "code",
   "execution_count": null,
   "metadata": {
    "tags": [
     "hide_input"
    ]
   },
   "outputs": [],
   "source": [
    "z_min = 2 / math.sin(alpha) ** 2 \n",
    "x_1_min = (z_min - z_1) / z_min\n",
    "x_2_min = (z_min - z_2) / z_min\n",
    "\n",
    "if x_1 < x_1_min:\n",
    "    display.display(HTML('<div class=\"alert alert-block alert-danger\">Pinion is undercut</div>'))\n",
    "else:\n",
    "    display.display(HTML('<div class=\"alert alert-block alert-info\">Pinion is safe for undercut</div>'))\n",
    "    \n",
    "if x_2 < x_2_min:\n",
    "    display.display(HTML('<div class=\"alert alert-block alert-danger\">Wheel is undercut</div>'))\n",
    "else:\n",
    "    display.display(HTML('<div class=\"alert alert-block alert-info\">Wheel is safe for undercut</div>'))"
   ]
  },
  {
   "cell_type": "markdown",
   "metadata": {},
   "source": [
    "### CHECK: Top Land (Tooth Tip Thickness)\n",
    "The equation for pinion tooth tip thickness is given by,\n",
    "\n",
    "$$ S_{t,1} = d_{t,1}\\left( \\frac{S_p}{d_p} + \\rm{inv}\\alpha - \\rm{inv}\\alpha_{t,1} \\right) $$\n",
    "\n",
    "where, tooth thickness at pitch circle is given by,\n",
    "\n",
    "$$S_p = \\frac{m}{2}\\pi + 2mx\\tan\\alpha$$\n",
    "\n",
    "where, pressure angle at tooth tip is given by,\n",
    "\n",
    "$$\\alpha_{t,1} = \\cos^{-1}\\left(\\frac{d_b}{d_{t,1}} \\right)$$\n",
    "\n",
    "The equations for gear tooth tip thickness are identical with appropriate subscripts representing parameters for the gear.\n",
    "\n",
    "Check that pinion and wheel tooth tip thickness is at least $0.25m$.  "
   ]
  },
  {
   "cell_type": "code",
   "execution_count": null,
   "metadata": {
    "tags": [
     "hide_input"
    ]
   },
   "outputs": [],
   "source": [
    "d_p1 = z_1 * m\n",
    "d_b1 = d_p1 * math.cos(alpha)\n",
    "d_t1 = d_p1 + 2 * m * (1 + x_1 - y_1)\n",
    "S_t1 = thickness_at_given_d(d_t1, d_p1, d_b1, alpha, m,x_1)\n",
    "\n",
    "if S_t1 / m < 0.25:\n",
    "    display.display(HTML('<div class=\"alert alert-block alert-danger\">Pinion tip thickness is too small, reduce profile shift or increase addendum modification.</div>'))\n",
    "else:\n",
    "    display.display(HTML('<div class=\"alert alert-block alert-info\">Pinion tip thickness is good, $S_{t,1}$ = ' + str(round(S_t1/m,3)) + 'm</div>'))\n",
    "    \n",
    "d_p2 = z_2 * m\n",
    "d_b2 = d_p2 * math.cos(alpha)\n",
    "d_t2 = d_p2 + 2 * m * (1 + x_2 - y_2)\n",
    "S_t2 = thickness_at_given_d(d_t2, d_p2, d_b2, alpha, m, x_2)\n",
    "\n",
    "if S_t2 / m < 0.25:\n",
    "    display.display(HTML('<div class=\"alert alert-block alert-danger\">Wheel tip thickness is too small, reduce profile shift or increase addendum modification.</div>'))\n",
    "else:\n",
    "    display.display(HTML('<div class=\"alert alert-block alert-info\">Wheel tip thickness is good, $S_{t,2}$ = ' + str(round(S_t2/m,3)) + 'm</div>'))"
   ]
  },
  {
   "cell_type": "markdown",
   "metadata": {},
   "source": [
    "### CHECK: Backlash\n",
    "Backlash required can be found in IS:4460.  For low speed gears where pitch line velocity is below 8 m/s, maximum backlash for $m=2$ mm is 0.13 mm, for $m=8$ mm, is 0.4mm. For higher speed gears where pitch line velocity is above 8 m/s, maximum backlash for $m=2$ mm is 0.18 mm, for $m=8$ mm, is unchanged at 0.4mm.<br>\n",
    "\n",
    "Check backlash below.  Note that the backlash calculated here should match the specified backlash $B_{req}$.  "
   ]
  },
  {
   "cell_type": "code",
   "execution_count": null,
   "metadata": {
    "tags": [
     "hide_input"
    ]
   },
   "outputs": [],
   "source": [
    "BP = m * math.pi * math.cos(alpha)\n",
    "d_w1 = d_b1 / math.cos(alpha_w)\n",
    "d_w2 = d_b2 / math.cos(alpha_w)\n",
    "B_c = BP / math.cos(alpha_w) - thickness_at_given_d(d_w1, d_p1, d_b1, alpha, m, x_1) - thickness_at_given_d(d_w2, d_p2, d_b2, alpha, m, x_2)\n",
    "\n",
    "display.display(HTML('<div class=\"alert alert-block alert-info\">Backlash, $B_c$ = ' + str(round(B_c,3)) +' mm </div>'))"
   ]
  },
  {
   "cell_type": "markdown",
   "metadata": {},
   "source": [
    "### CHECK: Contact Ratio\n",
    "Contact ratio should be above 1.1 to ensure contact is maintained at all times. \n",
    "Contact ratio is found from tip and root diameters as given by the equation\n",
    "\n",
    "$$R = \\frac{\\frac{\\sqrt{d^2_{t,1} -d^2_{r,1}} + \\sqrt{d^2_{t,2} -d^2_{r,2}}}{4} -a\\sin\\alpha_w} {B_p}$$\n"
   ]
  },
  {
   "cell_type": "code",
   "execution_count": null,
   "metadata": {
    "tags": [
     "hide_input"
    ]
   },
   "outputs": [],
   "source": [
    "d_r1 = d_p1 + 2 * m * (-1.25 + x_1)\n",
    "d_r2 = d_p2 + 2 * m * (-1.25 + x_2)\n",
    "CR = (math.sqrt( d_t1 ** 2 / 4 - d_b1 ** 2 / 4 ) + math.sqrt( d_t2 ** 2 / 4 - d_b2 ** 2 / 4 ) - a * math.sin(alpha_w) ) / (BP)\n",
    "\n",
    "if CR < 1.1:\n",
    "    display.display(HTML('<div class=\"alert alert-block alert-danger\">Contact ratio is too small, CR = ' + str(round(CR,3)) +' <br>Update design requirements</div>'))\n",
    "else:\n",
    "    display.display(HTML('<div class=\"alert alert-block alert-info\">Contact ratio is good, CR = ' + str(round(CR,3)) +'</div>'))"
   ]
  },
  {
   "cell_type": "markdown",
   "metadata": {},
   "source": [
    "### CHECK: Tip-to-Root Clearance\n",
    "Calculate tip-to-root clearance.  Note that this should match the required clearance, since addendum modification is calculated to maintain $0.25m$ clearance."
   ]
  },
  {
   "cell_type": "code",
   "execution_count": null,
   "metadata": {},
   "outputs": [],
   "source": [
    "c_1 = a - a_0 - m * (x_1 + x_2 - y_1 )\n",
    "c_2 = a - a_0 - m * (x_1 + x_2 - y_2 )\n",
    "\n",
    "display.display(HTML('<div class=\"alert alert-block alert-info\">Clearance, $c_1/m$ = ' + str(c_1/m) +'</div>'))\n",
    "display.display(HTML('<div class=\"alert alert-block alert-info\">Clearance, $c_2/m$ = ' + str(c_2/m) +'</div>'))"
   ]
  },
  {
   "cell_type": "markdown",
   "metadata": {},
   "source": [
    "The following table summarizes the gear geometry as designed.<br>"
   ]
  },
  {
   "cell_type": "code",
   "execution_count": null,
   "metadata": {
    "tags": [
     "hide_input"
    ]
   },
   "outputs": [
    {
     "data": {
      "application/vnd.jupyter.widget-view+json": {
       "model_id": "3b14a32b942b47748bf4a71b07027522",
       "version_major": 2,
       "version_minor": 0
      },
      "text/plain": [
       "HBox(children=(Output(),))"
      ]
     },
     "metadata": {},
     "output_type": "display_data"
    }
   ],
   "source": [
    "I_rows = pd.Index([\"Number of teeth\", \"Module\",\"Standard center distance\",\"Working center distance\",\n",
    "                   \"Standard pressure angle\",\"Working pressure angle\",\"Backlash\",\"Backlash / module\",\"Contact ratio\",\n",
    "                   \"Profile shift\",\"Addendum modification\",\n",
    "                   \"Pitch diameter\",\"Tip diameter\",\"Root diameter\",\"Base diameter\",\n",
    "                   \"Tooth tip thickness\",\"Tooth tip thickness / module\", \"Tip root clearance\",\"Tip root clearance / module\"\n",
    "                  ], name=\"rows\")\n",
    "I_columns = pd.Index([\"Pinion\",\"Common\",\"Gear\",\"Units\"],name=\"columns\")\n",
    "df = pd.DataFrame(data=None,index=I_rows,columns=I_columns)\n",
    "\n",
    "col_name = \"Number of teeth\"\n",
    "df[\"Pinion\"][col_name] = z_1\n",
    "df[\"Gear\"][col_name] = z_2\n",
    "df[\"Common\"][col_name] = \"\"\n",
    "df[\"Units\"][col_name] = \"\"\n",
    "\n",
    "col_name = \"Module\"\n",
    "df[\"Pinion\"][col_name] = \"\"\n",
    "df[\"Gear\"][col_name] = \"\"\n",
    "df[\"Common\"][col_name] = m\n",
    "df[\"Units\"][col_name] = \"mm\"\n",
    "\n",
    "col_name = \"Standard pressure angle\"\n",
    "df[\"Pinion\"][col_name] = \"\"\n",
    "df[\"Gear\"][col_name] = \"\"\n",
    "df[\"Common\"][col_name] = alpha*180/math.pi\n",
    "df[\"Units\"][col_name] = \"deg\"\n",
    "\n",
    "col_name = \"Working pressure angle\"\n",
    "df[\"Pinion\"][col_name] = \"\"\n",
    "df[\"Gear\"][col_name] = \"\"\n",
    "df[\"Common\"][col_name] = alpha_w*180/math.pi\n",
    "df[\"Units\"][col_name] = \"deg\"\n",
    "\n",
    "col_name = \"Standard center distance\"\n",
    "df[\"Pinion\"][col_name] = \"\"\n",
    "df[\"Gear\"][col_name] = \"\"\n",
    "df[\"Common\"][col_name] = a_0\n",
    "df[\"Units\"][col_name] = \"mm\"\n",
    "\n",
    "col_name = \"Working center distance\"\n",
    "df[\"Pinion\"][col_name] = \"\"\n",
    "df[\"Gear\"][col_name] = \"\"\n",
    "df[\"Common\"][col_name] = a\n",
    "df[\"Units\"][col_name] = \"mm\"\n",
    "\n",
    "col_name = \"Pitch diameter\"\n",
    "df[\"Pinion\"][col_name] = d_p1\n",
    "df[\"Gear\"][col_name] = d_p2\n",
    "df[\"Common\"][col_name] = \"\"\n",
    "df[\"Units\"][col_name] = \"mm\"\n",
    "\n",
    "col_name = \"Root diameter\"\n",
    "df[\"Pinion\"][col_name] = d_r1\n",
    "df[\"Gear\"][col_name] = d_r2\n",
    "df[\"Common\"][col_name] = \"\"\n",
    "df[\"Units\"][col_name] = \"mm\"\n",
    "\n",
    "col_name = \"Base diameter\"\n",
    "df[\"Pinion\"][col_name] = d_b1\n",
    "df[\"Gear\"][col_name] = d_b2\n",
    "df[\"Common\"][col_name] = \"\"\n",
    "df[\"Units\"][col_name] = \"mm\"\n",
    "\n",
    "col_name = \"Tip diameter\"\n",
    "df[\"Pinion\"][col_name] = d_t1\n",
    "df[\"Gear\"][col_name] = d_t2\n",
    "df[\"Common\"][col_name] = \"\"\n",
    "df[\"Units\"][col_name] = \"mm\"\n",
    "\n",
    "col_name = \"Profile shift\"\n",
    "df[\"Pinion\"][col_name] = x_1\n",
    "df[\"Gear\"][col_name] = x_2\n",
    "df[\"Common\"][col_name] = \"\"\n",
    "df[\"Units\"][col_name] = \"module\"\n",
    "\n",
    "col_name = \"Addendum modification\"\n",
    "df[\"Pinion\"][col_name] = y_1\n",
    "df[\"Gear\"][col_name] = y_2\n",
    "df[\"Common\"][col_name] = \"\"\n",
    "df[\"Units\"][col_name] = \"module\"\n",
    "\n",
    "col_name = \"Tooth tip thickness\"\n",
    "df[\"Pinion\"][col_name] = S_t1\n",
    "df[\"Gear\"][col_name] = S_t2\n",
    "df[\"Common\"][col_name] = \"\"\n",
    "df[\"Units\"][col_name] = \"mm\"\n",
    "\n",
    "col_name = \"Tooth tip thickness / module\"\n",
    "df[\"Pinion\"][col_name] = S_t1/m\n",
    "df[\"Gear\"][col_name] = S_t2/m\n",
    "df[\"Common\"][col_name] = \"\"\n",
    "df[\"Units\"][col_name] = \"mm\"\n",
    "\n",
    "\n",
    "col_name = \"Tip root clearance\"\n",
    "df[\"Pinion\"][col_name] = c_1\n",
    "df[\"Gear\"][col_name] = c_2\n",
    "df[\"Common\"][col_name] = \"\"\n",
    "df[\"Units\"][col_name] = \"mm\"\n",
    "\n",
    "col_name = \"Tip root clearance / module\"\n",
    "df[\"Pinion\"][col_name] = c_1/m\n",
    "df[\"Gear\"][col_name] = c_2/m\n",
    "df[\"Common\"][col_name] = \"\"\n",
    "df[\"Units\"][col_name] = \"module\"\n",
    "\n",
    "col_name = \"Backlash\"\n",
    "df[\"Pinion\"][col_name] = \"\"\n",
    "df[\"Gear\"][col_name] = \"\"\n",
    "df[\"Common\"][col_name] = B_c\n",
    "df[\"Units\"][col_name] = \"mm\"\n",
    "\n",
    "col_name = \"Backlash / module\"\n",
    "df[\"Pinion\"][col_name] = \"\"\n",
    "df[\"Gear\"][col_name] = \"\"\n",
    "df[\"Common\"][col_name] = B_c/m\n",
    "df[\"Units\"][col_name] = \"module\"\n",
    "\n",
    "col_name = \"Contact ratio\"\n",
    "df[\"Pinion\"][col_name] = \"\"\n",
    "df[\"Gear\"][col_name] = \"\"\n",
    "df[\"Common\"][col_name] = CR\n",
    "df[\"Units\"][col_name] = \"\"\n",
    "\n",
    "widget1 = widgets.Output()\n",
    "with widget1:\n",
    "    display.display(df)\n",
    "hbox = widgets.HBox([widget1])\n",
    "hbox"
   ]
  },
  {
   "cell_type": "markdown",
   "metadata": {},
   "source": [
    "# Conclusion\n",
    "This notebook documents the procedure to find spur gear geometry based on design requirements.  Inputs to the design are required gear ratio, center distance, standard pressure angle, backlash, and tip-to-root clearance.  The outputs are tip, base, root diameters, contact ratio, profile shift, addendum modification, and tooth thickness.  "
   ]
  },
  {
   "cell_type": "markdown",
   "metadata": {},
   "source": [
    "---\n",
    "\n",
    "<div class=\"alert alert-block alert-info\" style=\"box-shadow: 2px 2px 4px 0px rgba(0, 0, 0, .13);\">\n",
    "    <h3>Learn More</h3><br>\n",
    "    Continue reading the <a href=\"https://www.drivetrainhub.com/code/notebooks\">Drivetrain Hub | Notebook Series</a> to learn more about the design and analysis of spur gears and other gear types.\n",
    "</div>"
   ]
  },
  {
   "cell_type": "markdown",
   "metadata": {},
   "source": [
    "<div class=\"alert alert-block alert-info\" style=\"box-shadow: 2px 2px 4px 0px rgba(0, 0, 0, .13);\">\n",
    "    <h3>Model Spur Gears</h3><br>\n",
    "    Accurately model, analyze, and print 3-dimensional spur gears with the <b>Drivetrain Hub | Gears App</b>, a modern drivetrain modeling environment 100% online at <a href=\"https://www.drivetrainhub.com\">www.drivetrainhub.com</a>.\n",
    "</div>"
   ]
  },
  {
   "cell_type": "markdown",
   "metadata": {},
   "source": [
    "<div class=\"alert alert-block alert-info\" style=\"box-shadow: 2px 2px 4px 0px rgba(0, 0, 0, .13);\">\n",
    "    <h3>Improve Notebook</h3><br>\n",
    "    Our gear geometry notebooks are publicly hosted in a <a href=\"https://github.com/drivetrainhub/notebooks-gears/\">GitHub repository</a>, available for anyone to view and propose edits.\n",
    "</div>"
   ]
  },
  {
   "cell_type": "markdown",
   "metadata": {},
   "source": [
    "## References\n",
    "\n",
    "1. G. M. Maitra, (1994), \"Handbook of Gear Design\", Tata McGraw-Hill\n",
    "2. M. Rameshkumar, G. Venkatesan and P. Sivakumar, (2010), \"Finite Element Analysis of High Contact Ratio Gear\", AGMA Technical Paper, 10FTM06"
   ]
  }
 ],
 "metadata": {
  "celltoolbar": "Tags",
  "kernelspec": {
   "display_name": "Python 3",
   "language": "python",
   "name": "python3"
  },
  "language_info": {
   "codemirror_mode": {
    "name": "ipython",
    "version": 3
   },
   "file_extension": ".py",
   "mimetype": "text/x-python",
   "name": "python",
   "nbconvert_exporter": "python",
   "pygments_lexer": "ipython3",
   "version": "3.6.7"
  }
 },
 "nbformat": 4,
 "nbformat_minor": 2
}
