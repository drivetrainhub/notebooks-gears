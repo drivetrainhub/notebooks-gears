{
 "cells": [
  {
   "cell_type": "markdown",
   "metadata": {},
   "source": [
    "[<img align=\"left\" width=\"140px\" src=\"https://storage.googleapis.com/static.drivetrainhub.com/img/dh_logo_text_217x80.png\"/>](https://www.drivetrainhub.com)\n",
    "\n",
    "<div align=\"right\">© 2019 Drivetrain Hub LLC</div>"
   ]
  },
  {
   "cell_type": "markdown",
   "metadata": {},
   "source": [
    "# Gear Tooth Contact Stress\n",
    "---\n",
    "\n",
    "**Authors**:  [Tugan Eritenel](https://github.com/tugan1) \n",
    "\n",
    "**Description**:  Calculation of gear tooth contact stress in spur gears."
   ]
  },
  {
   "cell_type": "markdown",
   "metadata": {},
   "source": [
    "## Table of Contents\n",
    "\n",
    "1. [Introduction](#Introduction)\n",
    "    1. [Definitions and Gear Parameters](#Definitions-and-Gear-Parameters)"
   ]
  },
  {
   "cell_type": "markdown",
   "metadata": {},
   "source": [
    "# Introduction\n",
    "This chapter is on contact stress of parallel axis gears.  "
   ]
  },
  {
   "cell_type": "markdown",
   "metadata": {},
   "source": [
    "Notebook imports and settings"
   ]
  },
  {
   "cell_type": "code",
   "execution_count": 1,
   "metadata": {},
   "outputs": [],
   "source": [
    "import ipywidgets as widgets\n",
    "from IPython import display\n",
    "from IPython.core.display import HTML\n",
    "import pandas as pd\n",
    "from pprint import pprint\n",
    "import math"
   ]
  },
  {
   "cell_type": "code",
   "execution_count": 2,
   "metadata": {},
   "outputs": [],
   "source": [
    "def inv(a):\n",
    "    return math.tan(a) - a\n",
    "\n",
    "def alpha_at_given_d(d,d_b):\n",
    "    return math.acos(d_b/d)\n",
    "\n",
    "def thickness_at_given_d(d,d_p,d_b,alpha,m,x):\n",
    "    S_p = math.pi/2*m + 2*m*x*math.tan(alpha)\n",
    "    alpha_d = alpha_at_given_d(d,d_b)\n",
    "    S = d*(S_p/d_p+inv(alpha)-inv(alpha_d))\n",
    "    return S"
   ]
  },
  {
   "cell_type": "markdown",
   "metadata": {},
   "source": [
    "# Contact Stress\n",
    "Gear tooth contact along the tooth surface can be considered as a line. The width of the contact is much shorter than the length along the line of contact.  The radius of curvatures of the contacting surfaces vary as the gears rotate.  Maximum subsurface shear stress is just below the point of contact.  The mechanism of stress is quite complicated due to sliding and friction between the surfaces.  \n",
    "\n",
    "<img src=\"./img/contact.png\" alt=\"Involute parameters\" style=\"max-width: 650px\"/>\n",
    "<p style=\"text-align: center; font-weight: bold;\">Stresses on gear tooth.</p>\n",
    "<span style=\"font-size: 8pt; float: right\">Image credit: G. M. Maitra, Handbook of Gear Design </span>\n",
    "\n",
    "Pitting is a type of gear failure as a result of subsurface contact stress cycles.  The contact stress is denoted with the symbol $p$ referring to Hertzian pressure developed.  The maximum pressure on two cylinders in contact is given by,\n",
    "$$ p_{c(max)} = \\frac{4 F}{\\pi B L}$$ \n",
    "where the width of the contact is\n",
    "$$B = \\sqrt{\\frac{8 F}{\\pi L} \\frac{\\left(1-\\nu_1^2\\right)/E_1 + \\left(1-\\nu_2^2\\right)/E_2}{\\left(1/D_1\\right) + \\left(1/D_2\\right)}}$$\n",
    "\n",
    "When the elastic modulus of the two cylinders are the same $E_1 = E_2$, and poisson ratio are $\\nu_1 = \\nu_2 = 0.3$, the contact pressure for gears becomes,\n",
    "$$ p_p = \\sqrt{0.35\\frac{F_t E}{b d_{p,1}} \\frac{i+1}{i} \\frac{1}{\\cos^2\\alpha \\tan\\alpha_w}} $$\n",
    "\n",
    "A few parameters are factored so that\n",
    "$$ p_p = y_m y_p \\sqrt{\\frac{F_t}{b_1 d_{p,1}} \\frac{i+1}{i}}$$\n",
    "where $y_m = \\sqrt{0.35 E}$ becomes a material factor and $y_p = \\sqrt{\\frac{1}{\\cos^2\\alpha \\tan\\alpha_w}} $ becomes a tooth shape factor.  For a first design iteration, assuming no profile shift, and $\\alpha = 20^{\\circ}$, $y_p = 1.76$, and $E=206,000$ MPa, so $y_m = 269$.\n",
    "\n",
    "Maximum allowable surface fatigue stress $p_{sc}$ needs to be determined from the gear material.  For example, induction hardened 40 Cr 4 allowable surface fatigue stress is 1620 MPa.  Generally a factor of safety of 1.5 is applied, giving the contact pressure limit as $p_{cp}< \\frac{p_{sc}}{1.5}$.\n",
    "\n",
    "Contact pressure is written in terms of applied torque as,\n",
    "$$ p_{cp} = y_m y_p\\sqrt{ \\frac{2000 T_1}{\\left(b/d_{p,1}\\right) d_{p,1}^3} \\frac{i+1}{i}}$$\n",
    "\n",
    "Minimum module to satisfy the contact pressure safety is found using\n",
    "$$ m_n < \\frac{1}{z_1} \\sqrt[3]{ \\frac{2000 T_1 y_m^2 y_p^2}{\\left(b/d_{p,1}\\right) p_{cp}^2} \\frac{i+1}{i}}$$"
   ]
  },
  {
   "cell_type": "markdown",
   "metadata": {},
   "source": [
    "## Example\n",
    "A gear pair has 45 teeth on the pinion and 137 teeth on the wheel.  Torque on the pinion is 600 Nm.  Minimum module so that the pinion is safe for contact fatigue is required."
   ]
  },
  {
   "cell_type": "markdown",
   "metadata": {},
   "source": [
    "For the first iteration of design $y_p = 1.76$ and $y_m=269$.  \n",
    "\n",
    "The ratio of facewidth to pitch diameter is taken as $\\frac{b_1}{d_{p,1}} = 0.5$ to provide a starting point for the design. The formula below is used for finding the minimum module. Substituting the given values:"
   ]
  },
  {
   "cell_type": "code",
   "execution_count": 21,
   "metadata": {},
   "outputs": [
    {
     "data": {
      "text/html": [
       "<div class=\"alert alert-block alert-info\"> Minimum module for bending stress, $m$ = 1.89</div>"
      ],
      "text/plain": [
       "<IPython.core.display.HTML object>"
      ]
     },
     "metadata": {},
     "output_type": "display_data"
    },
    {
     "data": {
      "text/html": [
       "<div class=\"alert alert-block alert-info\"> Selected module, $m_{n}$ = 2.0</div>"
      ],
      "text/plain": [
       "<IPython.core.display.HTML object>"
      ]
     },
     "metadata": {},
     "output_type": "display_data"
    }
   ],
   "source": [
    "T_1 = 600\n",
    "z_1 = 45\n",
    "z_2 = 137\n",
    "i=z_2/z_1\n",
    "y_m = 269\n",
    "y_p = 1.76\n",
    "facewidth_to_pitch = 0.5\n",
    "p_cp = 1620/1.5\n",
    "\n",
    "\n",
    "m = 1/z_1*math.pow(2000*T_1 * (y_m**2) * (y_p**2)/((facewidth_to_pitch)*p_cp**2)*(i+1)/i ,1/3)\n",
    "display.display(HTML('<div class=\"alert alert-block alert-info\"> Minimum module for bending stress, $m$ = ' + str(round(m,2)) + '</div>'))\n",
    "\n",
    "m_nearest = math.ceil(m*2)/2\n",
    "display.display(HTML('<div class=\"alert alert-block alert-info\"> Selected module, $m_{n}$ = ' + str(round(m_nearest,2)) + '</div>'))\n"
   ]
  },
  {
   "cell_type": "markdown",
   "metadata": {},
   "source": [
    "The contact pressure is calculated with the selected module"
   ]
  },
  {
   "cell_type": "code",
   "execution_count": 22,
   "metadata": {},
   "outputs": [],
   "source": [
    "m = m_nearest\n",
    "d_p1= m * z_1\n",
    "F_t = 2000*T_1/d_p1\n",
    "p_cp = y_m *y_p * math.sqrt( 2000*T_1 / (facewidth_to_pitch * d_p1**3)*(i+1)/i )\n"
   ]
  },
  {
   "cell_type": "code",
   "execution_count": 23,
   "metadata": {},
   "outputs": [
    {
     "data": {
      "text/html": [
       "<div class=\"alert alert-block alert-info\"> Contact pressure on pinion, $p_{cp}$ = 990.11 MPa </div>"
      ],
      "text/plain": [
       "<IPython.core.display.HTML object>"
      ]
     },
     "metadata": {},
     "output_type": "display_data"
    }
   ],
   "source": [
    "display.display(HTML('<div class=\"alert alert-block alert-info\"> Contact pressure on pinion, $p_{cp}$ = ' + str(round(p_cp,2)) + ' MPa </div>'))\n"
   ]
  }
 ],
 "metadata": {
  "kernelspec": {
   "display_name": "Python 3",
   "language": "python",
   "name": "python3"
  },
  "language_info": {
   "codemirror_mode": {
    "name": "ipython",
    "version": 3
   },
   "file_extension": ".py",
   "mimetype": "text/x-python",
   "name": "python",
   "nbconvert_exporter": "python",
   "pygments_lexer": "ipython3",
   "version": "3.6.7"
  }
 },
 "nbformat": 4,
 "nbformat_minor": 2
}
