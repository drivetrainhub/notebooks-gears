{
 "cells": [
  {
   "cell_type": "markdown",
   "metadata": {},
   "source": [
    "[<img align=\"left\" width=\"140px\" src=\"https://storage.googleapis.com/static.drivetrainhub.com/img/dh_logo_text_217x80.png\"/>](https://www.drivetrainhub.com)\n",
    "\n",
    "<div align=\"right\">© 2019 Drivetrain Hub LLC</div>"
   ]
  },
  {
   "cell_type": "markdown",
   "metadata": {},
   "source": [
    "# Strength / Gear Tooth Bending Stress\n",
    "---\n",
    "\n",
    "**Authors**:  [Tugan Eritenel](https://github.com/tugan1) \n",
    "\n",
    "**Description**:  Calculation of root bending stress in spur gears."
   ]
  },
  {
   "cell_type": "markdown",
   "metadata": {},
   "source": [
    "## Table of Contents\n",
    "\n",
    "1. [Introduction](#Introduction)\n",
    "2. [Contributors to Root Stress](#Contributors-to-Root-Stress)\n",
    "3. [Root Bending Stress Calculation](#Root-Bending-Stress-Calculation)\n",
    "    1. [Example](#Example-1)\n",
    "4. [Conclusion](#Conclusion)\n",
    "4. [References](#References)"
   ]
  },
  {
   "cell_type": "markdown",
   "metadata": {},
   "source": [
    "## Introduction\n",
    "\n",
    "This chapter is on the root bending stress of parallel axis gears.  "
   ]
  },
  {
   "cell_type": "markdown",
   "metadata": {
    "tags": [
     "hide_cell"
    ]
   },
   "source": [
    "#### Notebook imports and settings"
   ]
  },
  {
   "cell_type": "code",
   "execution_count": 6,
   "metadata": {
    "tags": [
     "hide_cell"
    ]
   },
   "outputs": [],
   "source": [
    "import ipywidgets as widgets\n",
    "from IPython import display\n",
    "from IPython.core.display import HTML\n",
    "import pandas as pd\n",
    "import math"
   ]
  },
  {
   "cell_type": "markdown",
   "metadata": {},
   "source": [
    "## Contributors to Root Stress\n",
    "\n",
    "A gear tooth can be modeled as a cantilever beam under load.  Gear tooth bending was first investigated by Wilfred Lewis, and the bending stress equation is referred as the Lewis formula.  The figure below shows the three types of stress acting on the gear tooth. These are:\n",
    "\n",
    "1. Bending stress\n",
    "2. Compressive stress\n",
    "3. Shear stress\n",
    "\n",
    "Bending stress is calculated as: \n",
    "\n",
    "$$\\sigma_b = \\frac{\\textrm{Bending moment}}{\\textrm{Section modulus}} = \\frac{F_N \\cos\\alpha_a\\prime}{\\frac{1}{6} b S_q^2}$$\n",
    "\n",
    "Compressive stress is calculated as:\n",
    "\n",
    "$$\\sigma_c = \\frac{F_N \\sin\\alpha_a\\prime}{b S_q}$$\n",
    "\n",
    "Shear stress is calculated as:\n",
    "\n",
    "$$\\tau_m = \\frac{\\cos\\alpha_a\\prime}{b S_q}$$\n",
    "\n",
    "where $S_q$ is the thickness of the weakest part at the root, anfd $\\alpha_a \\prime$ is the pressure angle at the tip corner.  Research has shown that almost all stress at the gear tooth root is from bending, and the contribution of shear stress and compressive stress can be neglected.\n",
    "\n",
    "<img src=\"./img/bending.png\" alt=\"Involute parameters\" style=\"max-width: 350px\"/>\n",
    "<p style=\"text-align: center; font-weight: bold;\">Stresses on gear tooth.</p>\n",
    "<span style=\"font-size: 8pt; float: right\">Image credit: G. M. Maitra, Handbook of Gear Design </span>"
   ]
  },
  {
   "cell_type": "markdown",
   "metadata": {},
   "source": [
    "## Root Bending Stress Calculation\n",
    "\n",
    "The bending stress is organized as:\n",
    "\n",
    "$$\\sigma_b = \\frac{F_t}{b m_n} \\frac{6m_n h_q \\cos\\alpha_a \\prime}{S_q^2 \\cos\\alpha}$$\n",
    "\n",
    "The second fraction is defined as the tooth form factor according to: \n",
    "\n",
    "$$q_k = \\frac{6m_n h_q \\cos\\alpha_a \\prime}{S_q^2 \\cos\\alpha}$$\n",
    "\n",
    "where values for $q_k$ are obtained from the figure below.\n",
    "\n",
    "<img src=\"./img/qk.png\" alt=\"Involute parameters\" style=\"max-width: 550px; transform: rotate(90deg)\"/>\n",
    "<p style=\"text-align: center; font-weight: bold;\">Tooth form factor for bending stress.</p>\n",
    "<span style=\"font-size: 8pt; float: right\">Image credit: G. M. Maitra, Handbook of Gear Design </span>"
   ]
  },
  {
   "cell_type": "markdown",
   "metadata": {},
   "source": [
    "The final form of the tooth bending stress is,\n",
    "\n",
    "$$ \\sigma_{b} = \\frac{F_t}{b_1 m_n} q_e q_k$$\n",
    "\n",
    "where $F_t$ is the tangential gear mesh force, $b_1$ is the facewidth of the pinion, $m_n$ is the normal module, $q_e = \\frac{1}{CR}$ is a factor from contact ratio, and $q_{k,1}$ is the tooth form factor of the pinion obtained from the figure above.  \n",
    "\n",
    "Tangential force acting on the gear tooth is found from the torque on the pinion, using\n",
    "\n",
    "$$ F_t = \\frac{T_1}{\\frac{1}{2}d_{p,1}}$$\n",
    "\n",
    "The permissible root bending stress is denoted by $\\sigma_{bp}$ for the material.  For example, the permissible bending stress for induction hardened steel 40 Cr 4 is given as 200 MPa.  The stress at the root must be less than the permissible bending stress, $\\sigma_b < \\sigma_{bp}$.  Substituting this and the tangential force expression, and using milimeters for units for facewidth and module gives the minimum module as,\n",
    "\n",
    "$$ m > \\sqrt[3]{\\frac{2000 T_1 q_e q_k }{\\frac{b_1}{d_{p,1}}z_{1}^2 \\sigma_{bp}} }$$\n",
    " \n",
    "Idential expression with the parameters for the wheel gives the root stress on the wheel.  Generally, root stress on pinion is higher than the wheel. "
   ]
  },
  {
   "cell_type": "markdown",
   "metadata": {},
   "source": [
    "<div class=\"alert alert-block alert-warning\" style=\"box-shadow: 2px 2px 4px 0px rgba(0, 0, 0, .13);\">\n",
    "    <h3>Example | Root Bending Stress<a name=\"Example-1\"></a></h3>\n",
    "    <h4>GIVEN</h4>\n",
    "    - A gear pair has 45 teeth on the pinion.<br>\n",
    "    - Torque on the pinion is 600 Nm.<br>\n",
    "    - Pinion material has permissible bending stress of 200 MPa.\n",
    "    <h4>FIND</h4>\n",
    "    1) Minimum module so that the pinion is safe for bending.<br>\n",
    "    2) Bending stress on pinion tooth root.\n",
    "    <h4>SOLUTION</h4>\n",
    "    For the first design iteration, contact ratio is taken as 1, $q_e = 1$.  Tooth form factor is $q_k = 2.4$, assuming profile shift is not applied.\n",
    "\n",
    "The ratio of facewidth to pitch diameter is taken as $b_1 / d_{p,1} = 0.5$ to provide a starting point for the design. The formula above is used for finding the minimum module.  Substituting the given values, the minimum module for bending is:\n",
    "</div>"
   ]
  },
  {
   "cell_type": "code",
   "execution_count": 7,
   "metadata": {
    "tags": [
     "hide_input"
    ]
   },
   "outputs": [
    {
     "data": {
      "text/html": [
       "<div class=\"alert alert-block alert-info\"> Minimum module for bending stress, $m$ = 2.42</div>"
      ],
      "text/plain": [
       "<IPython.core.display.HTML object>"
      ]
     },
     "metadata": {},
     "output_type": "display_data"
    },
    {
     "data": {
      "text/html": [
       "<div class=\"alert alert-block alert-info\"> Chosen module, $m$ = 2.5</div>"
      ],
      "text/plain": [
       "<IPython.core.display.HTML object>"
      ]
     },
     "metadata": {},
     "output_type": "display_data"
    }
   ],
   "source": [
    "T_1 = 600\n",
    "z_1 = 45\n",
    "q_e = 1\n",
    "q_k = 2.4\n",
    "facewidth_to_pitch = 0.5\n",
    "sigma_bp = 200\n",
    "\n",
    "m = math.pow(2000*T_1 * q_e *q_k/(facewidth_to_pitch*z_1**2*sigma_bp),1/3)\n",
    "display.display(HTML('<div class=\"alert alert-block alert-info\"> Minimum module for bending stress, $m$ = ' + str(round(m,2)) + '</div>'))\n",
    "\n",
    "m_nearest = math.ceil(m*2)/2\n",
    "display.display(HTML('<div class=\"alert alert-block alert-info\"> Chosen module, $m$ = ' + str(round(m_nearest,2)) + '</div>'))\n"
   ]
  },
  {
   "cell_type": "markdown",
   "metadata": {},
   "source": [
    "<div class=\"alert alert-block alert-warning\" style=\"box-shadow: 2px 2px 4px 0px rgba(0, 0, 0, .13);\">\n",
    "The bending stress that develops at the tooth root is calculated using the formula,<br>\n",
    "\n",
    "$$ \\sigma_{b} = \\frac{F_t}{b_1 m_n} q_e q_k$$\n",
    "\n",
    "where the pitch diameter is $d_{p,1} = m_n z_1$, facewidth is $b_1 = 0.5 d_{p,1}$, and tangential force is $F_t = 2 T_1/d_{p,1}$.  Substituting the values,\n",
    "</div>"
   ]
  },
  {
   "cell_type": "code",
   "execution_count": 8,
   "metadata": {
    "tags": [
     "hide_input"
    ]
   },
   "outputs": [
    {
     "data": {
      "text/html": [
       "<div class=\"alert alert-block alert-info\"> Bending stress on pinion tooth root , $\\sigma_{b}$ = 182.04 MPa </div>"
      ],
      "text/plain": [
       "<IPython.core.display.HTML object>"
      ]
     },
     "metadata": {},
     "output_type": "display_data"
    }
   ],
   "source": [
    "m = m_nearest\n",
    "\n",
    "d_p1 = m * z_1\n",
    "b_1 = facewidth_to_pitch * d_p1\n",
    "F_t = 2000 * T_1 / d_p1\n",
    "sigma_b =  F_t / (b_1 * m) * q_k * q_e\n",
    "\n",
    "display.display(HTML('<div class=\"alert alert-block alert-info\"> Bending stress on pinion tooth root , $\\sigma_{b}$ = ' + str(round(sigma_b,2)) + ' MPa </div>'))"
   ]
  },
  {
   "cell_type": "markdown",
   "metadata": {},
   "source": [
    "## Conclusion\n",
    "\n",
    "This notebook documents the procedure to find spur gear root bending stress.  Inputs are a few parameters from gear macro geometry: number of teeth, pressure angle, and applied torque.  Minimum module is found so that the gears are safe considering root bending stress.  For a chosen module and the gear parameters above, root bending stress is calculated."
   ]
  },
  {
   "cell_type": "markdown",
   "metadata": {},
   "source": [
    "---\n",
    "\n",
    "<div class=\"alert alert-block alert-info\" style=\"box-shadow: 2px 2px 4px 0px rgba(0, 0, 0, .13);\">\n",
    "    <h3>Learn More</h3><br>\n",
    "    Continue reading the <a href=\"https://www.drivetrainhub.com/code/notebooks\">Drivetrain Hub | Notebook Series</a> to learn more about the design and analysis of spur gears and other gear types.\n",
    "</div>"
   ]
  },
  {
   "cell_type": "markdown",
   "metadata": {},
   "source": [
    "<div class=\"alert alert-block alert-info\" style=\"box-shadow: 2px 2px 4px 0px rgba(0, 0, 0, .13);\">\n",
    "    <h3>Model Gear Root</h3><br>\n",
    "    Accurately model the gear tooth root with the <b>Drivetrain Hub | Gears App</b>, a modern drivetrain modeling environment 100% online at <a href=\"https://www.drivetrainhub.com\">www.drivetrainhub.com</a>.\n",
    "</div>"
   ]
  },
  {
   "cell_type": "markdown",
   "metadata": {},
   "source": [
    "<div class=\"alert alert-block alert-info\" style=\"box-shadow: 2px 2px 4px 0px rgba(0, 0, 0, .13);\">\n",
    "    <h3>Improve Notebook</h3><br>\n",
    "    Our gear geometry notebooks are publicly hosted in a <a href=\"https://github.com/drivetrainhub/notebooks-gears/\">GitHub repository</a>, available for anyone to view and propose edits.\n",
    "</div>"
   ]
  },
  {
   "cell_type": "markdown",
   "metadata": {},
   "source": [
    "## References\n",
    "\n",
    "1. G. M. Maitra, (1994), \"Handbook of Gear Design\", Tata McGraw-Hill"
   ]
  }
 ],
 "metadata": {
  "kernelspec": {
   "display_name": "Python 3",
   "language": "python",
   "name": "python3"
  },
  "language_info": {
   "codemirror_mode": {
    "name": "ipython",
    "version": 3
   },
   "file_extension": ".py",
   "mimetype": "text/x-python",
   "name": "python",
   "nbconvert_exporter": "python",
   "pygments_lexer": "ipython3",
   "version": "3.7.2"
  }
 },
 "nbformat": 4,
 "nbformat_minor": 2
}
