{
 "cells": [
  {
   "cell_type": "markdown",
   "metadata": {},
   "source": [
    "[<img align=\"left\" width=\"140px\" src=\"https://storage.googleapis.com/static.drivetrainhub.com/img/dh_logo_text_217x80.png\"/>](https://www.drivetrainhub.com)\n",
    "\n",
    "<div align=\"right\">© 2019 Drivetrain Hub LLC</div>"
   ]
  },
  {
   "cell_type": "markdown",
   "metadata": {},
   "source": [
    "# Gear Tooth Root Bending Stress\n",
    "---\n",
    "\n",
    "**Authors**:  [Tugan Eritenel](https://github.com/tugan1) \n",
    "\n",
    "**Description**:  Calculation of root bending stress in spur gears."
   ]
  },
  {
   "cell_type": "markdown",
   "metadata": {},
   "source": [
    "## Table of Contents\n",
    "\n",
    "1. [Introduction](#Introduction)\n",
    "    1. [Definitions and Gear Parameters](#Definitions-and-Gear-Parameters)"
   ]
  },
  {
   "cell_type": "markdown",
   "metadata": {},
   "source": [
    "# Introduction\n",
    "This chapter is on the root bending stress of parallel axis gears.  "
   ]
  },
  {
   "cell_type": "markdown",
   "metadata": {},
   "source": [
    "Notebook imports and settings"
   ]
  },
  {
   "cell_type": "code",
   "execution_count": 1,
   "metadata": {},
   "outputs": [],
   "source": [
    "import ipywidgets as widgets\n",
    "from IPython import display\n",
    "from IPython.core.display import HTML\n",
    "import pandas as pd\n",
    "from pprint import pprint\n",
    "import math"
   ]
  },
  {
   "cell_type": "markdown",
   "metadata": {},
   "source": [
    "# Contributors to Root Stress\n",
    "A gear tooth can be modeled as a cantilever beam under load.  Gear tooth bending was first investigated by Wilfred Lewis, and the bending stress equation is referred as the Lewis formula.  The figure below shows the three types of stress acting on the gear tooth. These are:\n",
    "<ol>\n",
    "    <li>Bending stress</li>\n",
    "    <li>Copressive stress</li>\n",
    "    <li>Shear stress</li>\n",
    "</ol>\n",
    "\n",
    "Bending stress is given by $\\sigma_b = \\frac{\\textrm{Bending moment}}{\\textrm{Section modulus}} = \\frac{F_N \\cos\\alpha_a\\prime}{\\frac{1}{6} b S_q^2}$\n",
    "\n",
    "Compressive stress is given by $\\sigma_c = \\frac{F_N \\sin\\alpha_a\\prime}{b S_q}$\n",
    "\n",
    "Shear stress is given by $\\tau_m = \\frac{\\cos\\alpha_a\\prime}{b S_q}$\n",
    "\n",
    "Here, $S_q$ is the thickness of the weakest part at the root, anfd $\\alpha_a \\prime$ is the pressure angle at the tip corner.\n",
    "Research has shown that almost all stress at the gear tooth root is from bending, and the contribution of shear stress and compressive stress can be neglected.\n",
    "\n",
    "<img src=\"./img/bending.png\" alt=\"Involute parameters\" style=\"max-width: 350px\"/>\n",
    "<p style=\"text-align: center; font-weight: bold;\">Stresses on gear tooth.</p>\n",
    "<span style=\"font-size: 8pt; float: right\">Image credit: G. M. Maitra, Handbook of Gear Design </span>\n",
    "\n",
    "# Root Bending Stress\n",
    "The bending stress is organized as\n",
    "$$\\sigma_b = \\frac{F_t}{b m_n} \\frac{6m_n h_q \\cos\\alpha_a \\prime}{S_q^2 \\cos\\alpha}$$\n",
    "The second fraction is defined as the tooth form factor by $q_k = \\frac{6m_n h_q \\cos\\alpha_a \\prime}{S_q^2 \\cos\\alpha}$.  Values for $q_k$ are obtained from the plot below. \n"
   ]
  },
  {
   "cell_type": "markdown",
   "metadata": {},
   "source": [
    "<img src=\"./img/qk.png\" alt=\"Involute parameters\" style=\"max-width: 550px;transform:rotate(90deg)\"/>\n",
    "<p style=\"text-align: center; font-weight: bold;\">Tooth form factor for bending stress.</p>\n",
    "<span style=\"font-size: 8pt; float: right\">Image credit: G. M. Maitra, Handbook of Gear Design </span>"
   ]
  },
  {
   "cell_type": "markdown",
   "metadata": {},
   "source": [
    "The final form of the tooth bending stress is,\n",
    "$$ \\sigma_{b} = \\frac{F_t}{b_1 m_n} q_e q_k$$\n",
    "where $F_t$ is the tangential gear mesh force, $b_1$ is the facewidth of the pinion, $m_n$ is the normal module, $q_e = \\frac{1}{CR}$ is a factor from contact ratio, and $q_{k,1}$ is the tooth form factor of the pinion obtained from the figure above.  \n",
    "\n",
    "Tangential force acting on the gear tooth is found from the torque on the pinion, using\n",
    "$$ F_t = \\frac{T_1}{\\frac{1}{2}d_{p,1}}$$\n",
    "\n",
    "The permissible root bending stress is denoted by $\\sigma_{bp}$ for the material.  For example, the permissible bending stress for induction hardened steel 40 Cr 4 is given as 200 MPa.  The stress at the root must be less than the permissible bending stress, $\\sigma_b < \\sigma_{bp}$.  Substituting this and the tangential force expression, and using milimeters for units for facewidth and module gives the minimum module as,\n",
    "$$ m > \\sqrt[3]{\\frac{2000 T_1 q_e q_k }{\\frac{b_1}{d_{p,1}}z_{1}^2 \\sigma_{bp}} }$$\n",
    " \n",
    "Idential expression with the parameters for the wheel gives the root stress on the wheel.  Generally, root stress on pinion is higher than the wheel. "
   ]
  },
  {
   "cell_type": "markdown",
   "metadata": {},
   "source": [
    "## Example\n",
    "A gear pair has 45 teeth on the pinion.  Torque on the pinion is 600 Nm. Pinion material has permissible bending stress of 200 MPa.  Minimum module so that the pinion is safe for bending is required"
   ]
  },
  {
   "cell_type": "markdown",
   "metadata": {},
   "source": [
    "For the first iteration of design contact ratio is taken as 1; $q_e = 1$.  Tooth form factor is $q_k = 2.4$ assuming profile shift is not applied. \n",
    "\n",
    "The ratio of facewidth to pitch diameter is taken as $\\frac{b_1}{d_{p,1}} = 0.5$ to provide a starting point for the design. The formula above is used for finding the minimum module.  Substituting the given values,"
   ]
  },
  {
   "cell_type": "code",
   "execution_count": 6,
   "metadata": {},
   "outputs": [
    {
     "data": {
      "text/html": [
       "<div class=\"alert alert-block alert-info\"> Minimum module for bending stress, $m$ = 2.42</div>"
      ],
      "text/plain": [
       "<IPython.core.display.HTML object>"
      ]
     },
     "metadata": {},
     "output_type": "display_data"
    },
    {
     "data": {
      "text/html": [
       "<div class=\"alert alert-block alert-info\"> Chosen module, $m$ = 2.5</div>"
      ],
      "text/plain": [
       "<IPython.core.display.HTML object>"
      ]
     },
     "metadata": {},
     "output_type": "display_data"
    }
   ],
   "source": [
    "T_1 = 600\n",
    "z_1 = 45\n",
    "q_e = 1\n",
    "q_k = 2.4\n",
    "facewidth_to_pitch = 0.5\n",
    "sigma_bp = 200\n",
    "\n",
    "m = math.pow(2000*T_1 * q_e *q_k/(facewidth_to_pitch*z_1**2*sigma_bp),1/3)\n",
    "display.display(HTML('<div class=\"alert alert-block alert-info\"> Minimum module for bending stress, $m$ = ' + str(round(m,2)) + '</div>'))\n",
    "\n",
    "m_nearest = math.ceil(m*2)/2\n",
    "display.display(HTML('<div class=\"alert alert-block alert-info\"> Chosen module, $m$ = ' + str(round(m_nearest,2)) + '</div>'))\n"
   ]
  },
  {
   "cell_type": "markdown",
   "metadata": {},
   "source": [
    "The bending stress that develops at the tooth root is calculated using the formula,\n",
    "$$ \\sigma_{b} = \\frac{F_t}{b_1 m_n} q_e q_k$$\n",
    "where the pitch diameter is $d_{p,1} = m_n z_1$, facewidth is $b_1 = 0.5 d_{p,1}$, and tangential force is $F_t = 2 T_1/d_{p,1}$.  Substituting the values,"
   ]
  },
  {
   "cell_type": "code",
   "execution_count": 9,
   "metadata": {},
   "outputs": [],
   "source": [
    "m= m_nearest\n",
    "\n",
    "d_p1= m * z_1\n",
    "b_1 = facewidth_to_pitch*d_p1\n",
    "F_t = 2000*T_1/d_p1\n",
    "sigma_b =  F_t /(b_1 * m)*q_k*q_e\n"
   ]
  },
  {
   "cell_type": "code",
   "execution_count": 10,
   "metadata": {},
   "outputs": [
    {
     "data": {
      "text/html": [
       "<div class=\"alert alert-block alert-info\"> Bending stress on pinion tooth root , $\\sigma_{b}$ = 182.04 MPa </div>"
      ],
      "text/plain": [
       "<IPython.core.display.HTML object>"
      ]
     },
     "metadata": {},
     "output_type": "display_data"
    }
   ],
   "source": [
    "display.display(HTML('<div class=\"alert alert-block alert-info\"> Bending stress on pinion tooth root , $\\sigma_{b}$ = ' + str(round(sigma_b,2)) + ' MPa </div>'))\n"
   ]
  }
 ],
 "metadata": {
  "kernelspec": {
   "display_name": "Python 3",
   "language": "python",
   "name": "python3"
  },
  "language_info": {
   "codemirror_mode": {
    "name": "ipython",
    "version": 3
   },
   "file_extension": ".py",
   "mimetype": "text/x-python",
   "name": "python",
   "nbconvert_exporter": "python",
   "pygments_lexer": "ipython3",
   "version": "3.6.7"
  }
 },
 "nbformat": 4,
 "nbformat_minor": 2
}
