{
 "cells": [
  {
   "cell_type": "markdown",
   "metadata": {},
   "source": [
    "[<img align=\"left\" width=\"140px\" src=\"https://storage.googleapis.com/static.drivetrainhub.com/img/dh_logo_text_217x80.png\"/>](https://www.drivetrainhub.com)\n",
    "\n",
    "<div align=\"right\">© 2019 Drivetrain Hub LLC</div>"
   ]
  },
  {
   "cell_type": "markdown",
   "metadata": {},
   "source": [
    "# Strength / Force Analysis\n",
    "---\n",
    "\n",
    "**Authors**:  [First Last](https://github.com/<username>)\n",
    "\n",
    "**Description**:  Description of the notebook."
   ]
  },
  {
   "cell_type": "markdown",
   "metadata": {},
   "source": [
    "## Table of Contents\n",
    "\n",
    "1. [Definitions](#Definitions)\n",
    "    1. [Nomenclature](#Nomenclature)\n",
    "1. [Example Section](#Example-Section)\n",
    "1. [References](#References)"
   ]
  },
  {
   "cell_type": "markdown",
   "metadata": {
    "tags": [
     "hide_cell"
    ]
   },
   "source": [
    "#### Notebook imports and settings"
   ]
  },
  {
   "cell_type": "code",
   "execution_count": 1,
   "metadata": {
    "tags": [
     "hide_cell"
    ]
   },
   "outputs": [],
   "source": [
    "from math import pi"
   ]
  },
  {
   "cell_type": "markdown",
   "metadata": {},
   "source": [
    "## Definitions\n",
    "\n",
    "**Foo**: Definition of foo.<br>\n",
    "\n",
    "### Nomenclature\n",
    "\n",
    "$\\alpha$ - example coefficient<br>\n",
    "$\\beta$ - example variable<br>"
   ]
  },
  {
   "cell_type": "markdown",
   "metadata": {},
   "source": [
    "## Example Section"
   ]
  },
  {
   "cell_type": "code",
   "execution_count": 2,
   "metadata": {},
   "outputs": [],
   "source": [
    "# write code, generate plots, add tables, include explainations, etc."
   ]
  },
  {
   "cell_type": "markdown",
   "metadata": {},
   "source": [
    "Example of inline equation: $\\frac{x}{y} = z$\n",
    "\n",
    "Example of displayed equation: $$\\frac{x}{y} = z$$"
   ]
  },
  {
   "cell_type": "markdown",
   "metadata": {},
   "source": [
    "<div class=\"alert alert-block alert-info\" style=\"box-shadow: 2px 2px 4px 0px rgba(0, 0, 0, .13);\">\n",
    "    Put a tip or note here!\n",
    "</div>"
   ]
  },
  {
   "cell_type": "markdown",
   "metadata": {},
   "source": [
    "<div class=\"alert alert-block alert-warning\" style=\"box-shadow: 2px 2px 4px 0px rgba(0, 0, 0, .13);\">\n",
    "    Illustrate an example or mathematical equation here!\n",
    "</div>"
   ]
  },
  {
   "cell_type": "markdown",
   "metadata": {},
   "source": [
    "<div class=\"alert alert-block alert-success\" style=\"box-shadow: 2px 2px 4px 0px rgba(0, 0, 0, .13);\">\n",
    "    Perhaps the solution to a problem could go here!\n",
    "</div>"
   ]
  },
  {
   "cell_type": "markdown",
   "metadata": {},
   "source": [
    "<div class=\"alert alert-block alert-danger\" style=\"box-shadow: 2px 2px 4px 0px rgba(0, 0, 0, .13);\">\n",
    "    Serious warning or concern could ge here!\n",
    "</div>"
   ]
  },
  {
   "cell_type": "markdown",
   "metadata": {},
   "source": [
    "---\n",
    "\n",
    "<div class=\"alert alert-block alert-info\" style=\"box-shadow: 2px 2px 4px 0px rgba(0, 0, 0, .13);\">\n",
    "    <h3>Learn More</h3><br>\n",
    "    Continue reading the <a href=\"https://www.drivetrainhub.com/code/notebooks\">Drivetrain Hub | Notebook Series</a> to learn more about the design and analysis of gears.\n",
    "</div>"
   ]
  },
  {
   "cell_type": "markdown",
   "metadata": {},
   "source": [
    "<div class=\"alert alert-block alert-info\" style=\"box-shadow: 2px 2px 4px 0px rgba(0, 0, 0, .13);\">\n",
    "    <h3>Analyze Gear Forces</h3><br>\n",
    "    Accurately model and analyze gear mesh forces with the <b>Drivetrain Hub | Gears App</b>, a modern drivetrain modeling environment 100% online at <a href=\"https://www.drivetrainhub.com\">www.drivetrainhub.com</a>.\n",
    "</div>"
   ]
  },
  {
   "cell_type": "markdown",
   "metadata": {},
   "source": [
    "<div class=\"alert alert-block alert-info\" style=\"box-shadow: 2px 2px 4px 0px rgba(0, 0, 0, .13);\">\n",
    "    <h3>Improve Notebook</h3><br>\n",
    "    Our gear geometry notebooks are publicly hosted in a <a href=\"https://github.com/drivetrainhub/notebooks-gears/\">GitHub repository</a>, available for anyone to view and propose edits.\n",
    "</div>"
   ]
  },
  {
   "cell_type": "markdown",
   "metadata": {},
   "source": [
    "## References\n",
    "\n",
    "1. [Example reference citation](https://www.link-to-reference.com)"
   ]
  }
 ],
 "metadata": {
  "kernelspec": {
   "display_name": "Python 3",
   "language": "python",
   "name": "python3"
  },
  "language_info": {
   "codemirror_mode": {
    "name": "ipython",
    "version": 3
   },
   "file_extension": ".py",
   "mimetype": "text/x-python",
   "name": "python",
   "nbconvert_exporter": "python",
   "pygments_lexer": "ipython3",
   "version": "3.7.2"
  }
 },
 "nbformat": 4,
 "nbformat_minor": 2
}
