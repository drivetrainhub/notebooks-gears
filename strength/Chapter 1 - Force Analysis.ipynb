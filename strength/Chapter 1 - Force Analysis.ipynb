{
 "cells": [
  {
   "cell_type": "markdown",
   "metadata": {},
   "source": [
    "[<img align=\"left\" width=\"140px\" src=\"https://storage.googleapis.com/static.drivetrainhub.com/img/dh_logo_text_217x80.png\"/>](https://drivetrainhub.com)\n",
    "\n",
    "<div align=\"right\">© 2020 Drivetrain Hub LLC</div>"
   ]
  },
  {
   "cell_type": "markdown",
   "metadata": {},
   "source": [
    "# Strength / Force Analysis\n",
    "---\n",
    "\n",
    "**Authors**:  [Tugan Eritenel](https://github.com/tugan1)\n",
    "\n",
    "**Description**:  Calculation of gear forces in parallel axis spur and helical gears."
   ]
  },
  {
   "cell_type": "markdown",
   "metadata": {},
   "source": [
    "## Table of Contents\n",
    "\n",
    "1. [Introduction](#Introduction)\n",
    "    1. [Nomenclature](#Nomenclature)\n",
    "1. [Gear Forces](#Gear-Forces)\n",
    "    1. [Example](#Example-1)\n",
    "1. [References](#References)"
   ]
  },
  {
   "cell_type": "markdown",
   "metadata": {
    "tags": [
     "hide_cell"
    ]
   },
   "source": [
    "#### Notebook imports and settings"
   ]
  },
  {
   "cell_type": "code",
   "execution_count": 1,
   "metadata": {
    "tags": [
     "hide_cell"
    ]
   },
   "outputs": [],
   "source": [
    "import math\n",
    "from math import pi\n",
    "from IPython import display\n",
    "from IPython.core.display import HTML"
   ]
  },
  {
   "cell_type": "markdown",
   "metadata": {},
   "source": [
    "## Introduction\n",
    "\n",
    "The forces on gears are needed for gear design.  In particular, root stress and contact stress depend on the gear tooth forces.  Root stress and contact stress determine the size of the gears, and they are discussed in another notebook. \n",
    "\n",
    "Design of supporting shafts and bearings also require gear tooth forces.  Spur gears only generate forces in the gear plane, however helical gears generate an axial force component therefore need to be supported axially as well.  Tangential and radial forces in the gear plane cause bending moments on the supporing shafts.  Axial force generates bending in the perpendicular plane.  Considering these, the calculation of gear forces is important in design of shafts and bearings.\n",
    "\n",
    "<img src=\"./img/drivetrainhub_helical_gearset_15-28_forces.png\" alt=\"HELICAL GEAR MESH FORCES\" style=\"max-height: 350px; max-width: 100%\"/>\n",
    "<p style=\"text-align: center; font-weight: bold;\">Helical gear mesh modeled in <a href=\"https://drivetrainhub.com/gears\" style=\"text-decoration: none;\">Gears App</a></p>"
   ]
  },
  {
   "cell_type": "markdown",
   "metadata": {},
   "source": [
    "### Nomenclature\n",
    "\n",
    "<table style=\"margin-left: 0\">\n",
    "    <tr>\n",
    "        <th>Symbol</th>\n",
    "        <th style=\"text-align:left\">Description</th>\n",
    "    </tr>\n",
    "    <tr>\n",
    "        <td style=\"text-align:left\">$d_p$</td>\n",
    "        <td style=\"text-align:left\">Pitch circle diameter</td>\n",
    "    </tr>\n",
    "    <tr>\n",
    "        <td style=\"text-align:left\">$d_b$</td>\n",
    "        <td style=\"text-align:left\">Base circle diameter</td>\n",
    "    </tr>\n",
    "    <tr>\n",
    "        <td style=\"text-align:left\">$\\alpha$</td>\n",
    "        <td style=\"text-align:left\">Normal pressure angle</td>\n",
    "    </tr>\n",
    "    <tr>\n",
    "        <td style=\"text-align:left\">$\\alpha_t$</td>\n",
    "        <td style=\"text-align:left\">Transverse pressure angle</td>\n",
    "    </tr>\n",
    "    <tr>\n",
    "        <td style=\"text-align:left\">$\\alpha_w$</td>\n",
    "        <td style=\"text-align:left\">Working normal pressure angle</td>\n",
    "    </tr>\n",
    "    <tr>\n",
    "        <td style=\"text-align:left\">$\\alpha_{tw}$</td>\n",
    "        <td style=\"text-align:left\">Working transverse pressure angle</td>\n",
    "    </tr>\n",
    "    <tr>\n",
    "        <td style=\"text-align:left\">$\\beta$</td>\n",
    "        <td style=\"text-align:left\">Helix angle at pitch circle</td>\n",
    "    </tr>\n",
    "    <tr>\n",
    "        <td style=\"text-align:left\">$a$</td>\n",
    "        <td style=\"text-align:left\">Operating center distance</td>\n",
    "    </tr>\n",
    "    <tr>\n",
    "        <td style=\"text-align:left\">$T$</td>\n",
    "        <td style=\"text-align:left\">Applied torque on gear</td>\n",
    "    </tr>\n",
    "    <tr>\n",
    "        <td style=\"text-align:left\">$F_N$</td>\n",
    "        <td style=\"text-align:left\">Normal force</td>\n",
    "    </tr>\n",
    "    <tr>\n",
    "        <td style=\"text-align:left\">$F_t$</td>\n",
    "        <td style=\"text-align:left\">Tangential (circumferential) force</td>\n",
    "    </tr>\n",
    "    <tr>\n",
    "        <td style=\"text-align:left\">$F_a$</td>\n",
    "        <td style=\"text-align:left\">Axial force</td>\n",
    "    </tr>\n",
    "    <tr>\n",
    "        <td style=\"text-align:left\">$F_r$</td>\n",
    "        <td style=\"text-align:left\">Radial force</td>\n",
    "    </tr>\n",
    "</table>"
   ]
  },
  {
   "cell_type": "markdown",
   "metadata": {},
   "source": [
    "## Gear Forces\n",
    "\n",
    "Force between mating gears develops normal to the contacting surfaces.  This normal force, $F_N$, can be decomposed into axial force $F_a$, radial force $F_r$, and tangential force $F_t$.  Figure 1 illustrates the tangential and radial forces in spur gears.  \n",
    "\n",
    "<img src=\"./img/force_spur.png\" alt=\"Spur gear forces\" style=\"width: 100%; max-width: 600px\"/>\n",
    "<p style=\"text-align: center; font-weight: bold;\">Figure 1.  Forces on spur gears.</p>\n",
    "<span style=\"font-size: 8pt; float: right\">Image credit: G. M. Maitra, Handbook of Gear Design </span>"
   ]
  },
  {
   "cell_type": "markdown",
   "metadata": {},
   "source": [
    "An axial component of force exists in helical gears but not spur gears.  Figure 2 illustrates the normal force and its decomposition in the axial and transverse planes in helical gears.\n",
    "\n",
    "<img src=\"./img/force_helical.png\" alt=\"Helical gear forces\" style=\"width: 100%; max-width: 600px\"/>\n",
    "<p style=\"text-align: center; font-weight: bold;\">Figure 2.  Forces on helical gears.</p>\n",
    "<span style=\"font-size: 8pt; float: right\">Image credit: G. M. Maitra, Handbook of Gear Design </span>"
   ]
  },
  {
   "cell_type": "markdown",
   "metadata": {},
   "source": [
    "The normal force is distributed along the contact line, which moves as the gears rotate.  Because of static equilibrium, the sum of this distributed force must equal the torque applied to the gear.  Although the force is distributed, the operating pitch circle can be taken as an approximation to the average location for the point of contact.  \n",
    "\n",
    "The tangential force, $F_t$,  is tangent to the operating pitch circle in the transverse plane.  The moment generated by the tangential force at pitch circle equals the applied torque. The tangential force is then given by,\n",
    "\n",
    "$$F_t = \\frac{2T}{d_p}$$\n",
    "\n",
    "Considering the projection of the normal force in the transverse plane, the tangential force is one component; the other component is the radial force.  The radial force can be calculated as, \n",
    "\n",
    "$$F_r = F_t \\tan\\alpha_{tw}$$\n",
    "\n",
    "Considering the axial plane, the axial force is one component of the force.  The other component is the tangential force.  Then, the axial force is found by,\n",
    "\n",
    "$$F_a = F_t \\tan\\beta$$\n",
    "\n",
    "Lastly, the normal force is the vector summation of these three components, with its magnitude calculated as,\n",
    "\n",
    "$$F_N = \\sqrt{F_a^2 + F_r^2 + F_t^2}$$"
   ]
  },
  {
   "cell_type": "markdown",
   "metadata": {},
   "source": [
    "<div class=\"alert alert-block alert-warning\" style=\"box-shadow: 2px 2px 4px 0px rgba(0, 0, 0, .13);\">\n",
    "    <h3>Example | Gear Force Analysis<a name=\"Example-1\"></a></h3>\n",
    "    <h4>GIVEN</h4>\n",
    "    - A gear pair, pinion-wheel, is in steady-state operation with static equilibrium.  Geometry and operating conditions are as follows:<br>\n",
    "    - Number of pinion teeth is $z_p = 15$<br>\n",
    "    - Number of wheel teeth is $z_w = 45$<br>\n",
    "    - Normal module is $m_n = 2.5 \\text{mm}$<br>\n",
    "    - Normal pressure angle is $\\alpha = 20^\\circ$<br>\n",
    "    - Helix angle is $\\beta = 20^\\circ$<br>\n",
    "    - Center distance is $a = 80 \\text{mm}$<br>\n",
    "    - Applied torque on the pinion is $T = 100 \\text{Nm}$\n",
    "    <h4>FIND</h4>\n",
    "    Component of forces acting on the pinion.\n",
    "    <h4>SOLUTION</h4>\n",
    "    See below.\n",
    "</div>"
   ]
  },
  {
   "cell_type": "code",
   "execution_count": 2,
   "metadata": {
    "tags": [
     "hide_input"
    ]
   },
   "outputs": [],
   "source": [
    "# INPUTS\n",
    "# ------\n",
    "T = 100\n",
    "beta = 20"
   ]
  },
  {
   "cell_type": "markdown",
   "metadata": {},
   "source": [
    "<div class=\"alert alert-block alert-warning\" style=\"box-shadow: 2px 2px 4px 0px rgba(0, 0, 0, .13);\">\n",
    "    The working pitch diameter is $d_{w1} = 40 \\text{mm}$, transverse working pressure angle is $\\alpha_{tw} = 21.515^\\circ$, and tangential force is calculated as $F_t = 2T / d_p$.\n",
    "</div>"
   ]
  },
  {
   "cell_type": "code",
   "execution_count": 3,
   "metadata": {
    "tags": [
     "hide_input"
    ]
   },
   "outputs": [
    {
     "data": {
      "text/html": [
       "<div class=\"alert alert-block alert-success\">Tangential force, $F_{t}$ = 5000.0N</div>"
      ],
      "text/plain": [
       "<IPython.core.display.HTML object>"
      ]
     },
     "metadata": {},
     "output_type": "display_data"
    }
   ],
   "source": [
    "# SOLUTION\n",
    "# --------\n",
    "d_w1 = 40\n",
    "alpha_tw = 21.515\n",
    "F_t = 2 * T / (d_w1 / 1000)\n",
    "\n",
    "display.display(HTML('<div class=\"alert alert-block alert-success\">Tangential force, $F_{t}$ = ' + str(round(F_t,3)) + 'N</div>'))"
   ]
  },
  {
   "cell_type": "markdown",
   "metadata": {},
   "source": [
    "<div class=\"alert alert-block alert-warning\" style=\"box-shadow: 2px 2px 4px 0px rgba(0, 0, 0, .13);\">\n",
    "    The radial and axial forces are calculated from the equations, $ F_r = F_t \\tan\\alpha_{tw}$, and $F_a = F_t \\tan\\beta$, respectively.  The total normal force is then calculated from equation $F_N = \\sqrt{F_a^2 + F_r^2 + F_t^2}$.\n",
    "</div>"
   ]
  },
  {
   "cell_type": "code",
   "execution_count": 4,
   "metadata": {
    "tags": [
     "hide_input"
    ]
   },
   "outputs": [
    {
     "data": {
      "text/html": [
       "<div class=\"alert alert-block alert-success\">Radial force, $F_{r}$ = 1971.1N</div>"
      ],
      "text/plain": [
       "<IPython.core.display.HTML object>"
      ]
     },
     "metadata": {},
     "output_type": "display_data"
    },
    {
     "data": {
      "text/html": [
       "<div class=\"alert alert-block alert-success\">Axial force, $F_{a}$ = 1819.9N</div>"
      ],
      "text/plain": [
       "<IPython.core.display.HTML object>"
      ]
     },
     "metadata": {},
     "output_type": "display_data"
    },
    {
     "data": {
      "text/html": [
       "<div class=\"alert alert-block alert-success\">Normal force, $F_{N}$ = 5674.2N</div>"
      ],
      "text/plain": [
       "<IPython.core.display.HTML object>"
      ]
     },
     "metadata": {},
     "output_type": "display_data"
    }
   ],
   "source": [
    "# SOLUTION\n",
    "# --------\n",
    "F_r = F_t * math.tan(alpha_tw / 180 * pi)\n",
    "F_a = F_t * math.tan(beta / 180 * pi)\n",
    "F_N = math.sqrt(F_t**2 + F_r**2 + F_a**2)\n",
    "\n",
    "display.display(HTML('<div class=\"alert alert-block alert-success\">Radial force, $F_{r}$ = ' + str(round(F_r,1)) + 'N</div>'))\n",
    "display.display(HTML('<div class=\"alert alert-block alert-success\">Axial force, $F_{a}$ = ' + str(round(F_a,1)) + 'N</div>'))\n",
    "display.display(HTML('<div class=\"alert alert-block alert-success\">Normal force, $F_{N}$ = ' + str(round(F_N,1)) + 'N</div>'))"
   ]
  },
  {
   "cell_type": "markdown",
   "metadata": {},
   "source": [
    "<div class=\"alert alert-block alert-warning\" style=\"box-shadow: 2px 2px 4px 0px rgba(0, 0, 0, .13);\">\n",
    "    Lastly, the forces on the wheel must be equal and opposite to those calculated for the pinion.  This is required to achieve static equilibrium.  Also, it should that the pinion and wheel will need to be supported, e.g. with rolling element bearings, to react the radial, axial and tangential forces.\n",
    "</div>"
   ]
  },
  {
   "cell_type": "markdown",
   "metadata": {},
   "source": [
    "---\n",
    "<div class=\"alert alert-block alert-info\" style=\"box-shadow: 2px 2px 4px 0px rgba(0, 0, 0, .13);\">\n",
    "    <h3>Model Gears</h3><br>\n",
    "    <a href=\"https://drivetrainhub.com/gears\" style=\"font-weight: bold\">Gears App</a> software will accurately model and analyze gear mesh forces, entirely in your <u>web browser</u>.\n",
    "</div>"
   ]
  },
  {
   "cell_type": "markdown",
   "metadata": {},
   "source": [
    "<div class=\"alert alert-block alert-info\" style=\"box-shadow: 2px 2px 4px 0px rgba(0, 0, 0, .13);\">\n",
    "    <h3>Learn More</h3><br>\n",
    "    <a href=\"https://drivetrainhub.com/notebooks/\" style=\"font-weight: bold\">Notebook Series</a> is free to learn and contribute knowledge about gears, such as geometry, manufacturing, strength, and more.\n",
    "</div>"
   ]
  },
  {
   "cell_type": "markdown",
   "metadata": {},
   "source": [
    "<div class=\"alert alert-block alert-info\" style=\"box-shadow: 2px 2px 4px 0px rgba(0, 0, 0, .13);\">\n",
    "    <h3>Edit Notebook</h3><br>\n",
    "    <a href=\"https://github.com/drivetrainhub/notebooks/\" style=\"font-weight: bold\">GitHub repos</a> are used to publicly host our notebooks, allowing anyone to view and propose edits.\n",
    "</div>"
   ]
  },
  {
   "cell_type": "markdown",
   "metadata": {},
   "source": [
    "## References\n",
    "\n",
    "1. G. M. Maitra, (1994), \"Handbook of Gear Design\", Tata McGraw-Hill"
   ]
  }
 ],
 "metadata": {
  "kernelspec": {
   "display_name": "Python 3",
   "language": "python",
   "name": "python3"
  },
  "language_info": {
   "codemirror_mode": {
    "name": "ipython",
    "version": 3
   },
   "file_extension": ".py",
   "mimetype": "text/x-python",
   "name": "python",
   "nbconvert_exporter": "python",
   "pygments_lexer": "ipython3",
   "version": "3.7.2"
  },
  "pycharm": {
   "stem_cell": {
    "cell_type": "raw",
    "metadata": {
     "collapsed": false
    },
    "source": []
   }
  }
 },
 "nbformat": 4,
 "nbformat_minor": 2
}
